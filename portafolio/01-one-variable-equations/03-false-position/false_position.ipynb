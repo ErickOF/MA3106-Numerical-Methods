{
  "cells": [
    {
      "cell_type": "code",
      "execution_count": 1,
      "metadata": {
        "id": "EjSvOd79HSaQ"
      },
      "outputs": [],
      "source": [
        "# Remove comment of line above to solve the issue \"pandas doesn't exist\"\n",
        "#!pip install pandas\n",
        "\n",
        "from math import *\n",
        "import pandas as pd\n",
        "from typing import Tuple"
      ]
    },
    {
      "cell_type": "markdown",
      "metadata": {
        "id": "vVBudS59IcH3"
      },
      "source": [
        "## **False Position Method**"
      ]
    },
    {
      "cell_type": "code",
      "execution_count": 9,
      "metadata": {
        "id": "ivzvgCOiIe-r"
      },
      "outputs": [],
      "source": [
        "def false_position_method(xi_1: float,\n",
        "                  xi: float,\n",
        "                  func=None,\n",
        "                  error_func=None,\n",
        "                  error: float = 1e-10,\n",
        "                  _iter: int = 9e10) -> Tuple[float, float, int]:\n",
        "    \"\"\"False position method\n",
        "\n",
        "    Params:\n",
        "    ------------------------------------------------------------------\n",
        "        - xi_1: float.\n",
        "            first initial value of x\n",
        "        - xi: float\n",
        "            second initial value of x\n",
        "        - func\n",
        "            lambda function representing the function to work\n",
        "        - error_func\n",
        "            lambda function to compute the error\n",
        "        - error: float\n",
        "            error value\n",
        "        - _iter: int\n",
        "            number of iterations\n",
        "\n",
        "    Returns\n",
        "    ------------------------------------------------------------------\n",
        "        - Approximation of x\n",
        "        - Error\n",
        "        - Number of iterations\n",
        "    \"\"\"\n",
        "    # Check Bolzano Theorem\n",
        "    #if func(xi_1) * func(xi) >= 0:\n",
        "    #    raise ValueError(\"Do not satisfy the Bolzano Theorem\")\n",
        "\n",
        "    # Current iteration\n",
        "    i: int = 0\n",
        "    # Current value of x\n",
        "    x: float = xi\n",
        "    # Current error of the approximation\n",
        "    current_error: float = 1.0\n",
        "\n",
        "    # Visualization\n",
        "    df = pd.DataFrame(columns=['xu', 'f(xu)', 'xl', 'f(xl)', 'xr', 'f(xr)', 'y = mx + b', 'Error (%)'])\n",
        "\n",
        "    while (error < current_error and i < _iter):\n",
        "        # Evaluate function\n",
        "        fxi_1: float = func(xi_1)\n",
        "        fxi: float = func(xi)\n",
        "\n",
        "        # Compute the secant line\n",
        "        m = (fxi - fxi_1) / (xi - xi_1)\n",
        "        b = fxi - m*xi\n",
        "\n",
        "        # Compute the new approximation value\n",
        "        x = -b / m\n",
        "        fx = func(x)\n",
        "\n",
        "        # Save info\n",
        "        data: list = [xi_1, fxi_1, xi, fxi, x, fx, f'<y = {m}x + {b}>']\n",
        "\n",
        "        # Compute the new error\n",
        "        current_error = error_func(x, xi)\n",
        "\n",
        "        # Add info\n",
        "        df.loc[i] = data + [current_error if i > 0 else '-']\n",
        "\n",
        "        # Check Bolzano Theorem\n",
        "        if fx * fxi < 0:\n",
        "            # Save the previous approximation value\n",
        "            xi_1 = xi\n",
        "\n",
        "        # Save the current approximation value\n",
        "        xi = x\n",
        "\n",
        "        i += 1\n",
        "\n",
        "    df.index = df.index + 1\n",
        "    print(df)\n",
        "    return x, current_error, i"
      ]
    },
    {
      "cell_type": "markdown",
      "metadata": {},
      "source": [
        "# **Book Examples**"
      ]
    },
    {
      "cell_type": "code",
      "execution_count": 4,
      "metadata": {},
      "outputs": [
        {
          "name": "stdout",
          "output_type": "stream",
          "text": [
            "  x0     f(x0)       x1     f(x1)        xi     f(xi)  \\\n",
            "1  1  0.540302        2 -3.416147  1.136562  0.128941   \n",
            "2  2 -3.416147  1.13656  0.128941  1.167967  0.027875   \n",
            "3  2 -3.416147  1.16797  0.027875  1.174702  0.005895   \n",
            "4  2 -3.416147   1.1747  0.005895  1.176123  0.001241   \n",
            "5  2 -3.416147  1.17612  0.001241  1.176422  0.000261   \n",
            "\n",
            "                                      y = mx + b       Error  \n",
            "1  <y = -3.956449142415282x + 4.496751448283422>           -  \n",
            "2  <y = -4.105784046709758x + 4.795421256872373>   0.0268884  \n",
            "3  <y = -4.139286419274555x + 4.862426002001968>  0.00573275  \n",
            "4  <y = -4.146429091385103x + 4.876711346223065>  0.00120877  \n",
            "5  <y = -4.147935101726857x + 4.879723366906571>  0.00025427  \n"
          ]
        },
        {
          "data": {
            "text/plain": [
              "(1.1764223034432382, 0.00025426995058661274, 5)"
            ]
          },
          "execution_count": 4,
          "metadata": {},
          "output_type": "execute_result"
        }
      ],
      "source": [
        "# Example 3.1\n",
        "# Function to work\n",
        "func = lambda x: cos(x) - pow(x, 2) + 1\n",
        "# Error function\n",
        "error = lambda xi, xi_1: abs(xi - xi_1) / abs(xi)\n",
        "\n",
        "# Compute with the false position method\n",
        "false_position_method(1, 2, func, error, 0.001)"
      ]
    },
    {
      "cell_type": "code",
      "execution_count": 5,
      "metadata": {},
      "outputs": [
        {
          "name": "stdout",
          "output_type": "stream",
          "text": [
            "  x0     f(x0)       x1     f(x1)        xi     f(xi)  \\\n",
            "1  1 -0.540302        2  3.416147  1.136562 -0.128941   \n",
            "2  2  3.416147  1.13656 -0.128941  1.167967 -0.027875   \n",
            "3  2  3.416147  1.16797 -0.027875  1.174702 -0.005895   \n",
            "4  2  3.416147   1.1747 -0.005895  1.176123 -0.001241   \n",
            "5  2  3.416147  1.17612 -0.001241  1.176422 -0.000261   \n",
            "\n",
            "                                      y = mx + b       Error  \n",
            "1  <y = 3.956449142415282x + -4.496751448283422>           -  \n",
            "2  <y = 4.105784046709758x + -4.795421256872373>   0.0268884  \n",
            "3  <y = 4.139286419274555x + -4.862426002001968>  0.00573275  \n",
            "4  <y = 4.146429091385103x + -4.876711346223065>  0.00120877  \n",
            "5  <y = 4.147935101726857x + -4.879723366906571>  0.00025427  \n"
          ]
        },
        {
          "data": {
            "text/plain": [
              "(1.1764223034432382, 0.00025426995058661274, 5)"
            ]
          },
          "execution_count": 5,
          "metadata": {},
          "output_type": "execute_result"
        }
      ],
      "source": [
        "# Example 3.1\n",
        "# Function to work\n",
        "func = lambda x: pow(x, 2) - cos(x) - 1\n",
        "# Error function\n",
        "error = lambda xi, xi_1: abs(xi - xi_1) / abs(xi)\n",
        "\n",
        "# Compute with the false position method\n",
        "false_position_method(1, 2, func, error, 0.001)"
      ]
    },
    {
      "cell_type": "code",
      "execution_count": 6,
      "metadata": {},
      "outputs": [
        {
          "name": "stdout",
          "output_type": "stream",
          "text": [
            "  x0 f(x0)       x1       f(x1)        xi     f(xi)  \\\n",
            "1  3    -3        4           4  3.428571 -0.244898   \n",
            "2  4     4  3.42857   -0.244898  3.461538 -0.017751   \n",
            "3  4     4  3.46154  -0.0177515  3.463918 -0.001275   \n",
            "4  4     4  3.46392 -0.00127537  3.464088 -0.000092   \n",
            "\n",
            "                                       y = mx + b        Error  \n",
            "1                              <y = 7.0x + -24.0>            -  \n",
            "2   <y = 7.428571428571428x + -25.71428571428571>   0.00952381  \n",
            "3  <y = 7.461538461538462x + -25.846153846153847>  0.000686813  \n",
            "4   <y = 7.463917525773198x + -25.85567010309279>  4.93267e-05  \n"
          ]
        },
        {
          "data": {
            "text/plain": [
              "(3.4640883977900554, 4.9326690672328284e-05, 4)"
            ]
          },
          "execution_count": 6,
          "metadata": {},
          "output_type": "execute_result"
        }
      ],
      "source": [
        "# Example 3.3\n",
        "# Function to work\n",
        "func = lambda x: pow(x, 2) - 12\n",
        "# Error function\n",
        "error = lambda xi, xi_1: abs(xi - xi_1) / abs(xi)\n",
        "\n",
        "# Compute with the false position method\n",
        "false_position_method(3, 4, func, error, 0.0005)"
      ]
    },
    {
      "cell_type": "markdown",
      "metadata": {},
      "source": [
        "# **Proposed Exercises**"
      ]
    },
    {
      "cell_type": "code",
      "execution_count": 7,
      "metadata": {
        "colab": {
          "base_uri": "https://localhost:8080/"
        },
        "id": "Jy2MxiR0KI7e",
        "outputId": "eb248d01-c8f6-4d21-faaf-efb2707b1421"
      },
      "outputs": [
        {
          "name": "stdout",
          "output_type": "stream",
          "text": [
            "  x0 f(x0)        x1     f(x1)        xi     f(xi)  \\\n",
            "1  0     1         1 -0.500000  0.666667 -0.036706   \n",
            "2  0     1  0.666667 -0.036706  0.643062 -0.002710   \n",
            "3  0     1  0.643062 -0.002710  0.641324 -0.000200   \n",
            "4  0     1  0.641324 -0.000200  0.641196 -0.000015   \n",
            "5  0     1  0.641196 -0.000015  0.641187 -0.000001   \n",
            "\n",
            "                                       y = mx + b        Error  \n",
            "1                               <y = -1.5x + 1.0>            -  \n",
            "2                <y = -1.5550592125788452x + 1.0>    0.0367061  \n",
            "3                <y = -1.5592735243316194x + 1.0>   0.00271007  \n",
            "4                <y = -1.5595855820706408x + 1.0>   0.00020013  \n",
            "5  <y = -1.559608631548895x + 0.9999999999999999>  1.47792e-05  \n"
          ]
        },
        {
          "data": {
            "text/plain": [
              "(0.6411865001073181, 1.4779232713726187e-05, 5)"
            ]
          },
          "execution_count": 7,
          "metadata": {},
          "output_type": "execute_result"
        }
      ],
      "source": [
        "# Exercise 3.2.3\n",
        "# Function to work\n",
        "func = lambda x: pow(2, -x) - x\n",
        "# Error function\n",
        "error = lambda xi, xi_1: abs(xi - xi_1) / abs(xi)\n",
        "\n",
        "# Compute with the false position method\n",
        "false_position_method(0, 1, func, error, _iter=5)"
      ]
    },
    {
      "cell_type": "code",
      "execution_count": 8,
      "metadata": {},
      "outputs": [
        {
          "name": "stdout",
          "output_type": "stream",
          "text": [
            "  x0 f(x0)        x1     f(x1)        xi     f(xi)  \\\n",
            "1  0    -1         1  0.500000  0.666667  0.036706   \n",
            "2  0    -1  0.666667  0.036706  0.643062  0.002710   \n",
            "3  0    -1  0.643062  0.002710  0.641324  0.000200   \n",
            "4  0    -1  0.641324  0.000200  0.641196  0.000015   \n",
            "5  0    -1  0.641196  0.000015  0.641187  0.000001   \n",
            "\n",
            "                                       y = mx + b        Error  \n",
            "1                               <y = 1.5x + -1.0>            -  \n",
            "2                <y = 1.5550592125788452x + -1.0>    0.0367061  \n",
            "3                <y = 1.5592735243316194x + -1.0>   0.00271007  \n",
            "4                <y = 1.5595855820706408x + -1.0>   0.00020013  \n",
            "5  <y = 1.559608631548895x + -0.9999999999999999>  1.47792e-05  \n"
          ]
        },
        {
          "data": {
            "text/plain": [
              "(0.6411865001073181, 1.4779232713726187e-05, 5)"
            ]
          },
          "execution_count": 8,
          "metadata": {},
          "output_type": "execute_result"
        }
      ],
      "source": [
        "# Exercise 3.2.3\n",
        "# Function to work\n",
        "func = lambda x: x - pow(2, -x)\n",
        "# Error function\n",
        "error = lambda xi, xi_1: abs(xi - xi_1) / abs(xi)\n",
        "\n",
        "# Compute with the false position method\n",
        "false_position_method(0, 1, func, error, _iter=5)"
      ]
    },
    {
      "cell_type": "code",
      "execution_count": 9,
      "metadata": {},
      "outputs": [
        {
          "name": "stdout",
          "output_type": "stream",
          "text": [
            "      x0     f(x0)        x1     f(x1)        xi     f(xi)  \\\n",
            "1      0 -6.000000  0.480000  9.894545  0.181194 -5.360105   \n",
            "2   0.48  9.894545  0.181194 -5.360105  0.286187 -4.742211   \n",
            "3   0.48  9.894545  0.286187 -4.742211  0.348981 -4.052821   \n",
            "4   0.48  9.894545  0.348981 -4.052821  0.387053 -3.301069   \n",
            "5   0.48  9.894545  0.387053 -3.301069  0.410305 -2.545638   \n",
            "6   0.48  9.894545  0.410305 -2.545638  0.424566 -1.859550   \n",
            "7   0.48  9.894545  0.424566 -1.859550  0.433336 -1.295153   \n",
            "8   0.48  9.894545  0.433336 -1.295153  0.438737 -0.868485   \n",
            "9   0.48  9.894545  0.438737 -0.868485  0.442067 -0.566358   \n",
            "10  0.48  9.894545  0.442067 -0.566358  0.444121 -0.362258   \n",
            "11  0.48  9.894545  0.444121 -0.362258  0.445388 -0.228745   \n",
            "12  0.48  9.894545  0.445388 -0.228745  0.446170 -0.143238   \n",
            "13  0.48  9.894545  0.446170 -0.143238  0.446653 -0.089220   \n",
            "14  0.48  9.894545  0.446653 -0.089220  0.446951 -0.055387   \n",
            "\n",
            "                                         y = mx + b        Error  \n",
            "1     <y = 33.11363509138597x + -6.000000000000002>            -  \n",
            "2   <y = 51.052062087863575x + -14.610444958309248>      0.57945  \n",
            "3       <y = 75.5200544877539x + -26.3550813102566>     0.219416  \n",
            "4    <y = 106.45318856707885x + -41.20298566833258>     0.109093  \n",
            "5      <y = 141.9686502064741x + -58.2504072552423>    0.0600748  \n",
            "6    <y = 178.49390343855669x + -75.78252880664195>     0.034759  \n",
            "7     <y = 212.0394997386649x + -91.88441503069387>     0.020656  \n",
            "8   <y = 239.79455753029112x + -105.20684277067447>     0.012464  \n",
            "9    <y = 260.8423157203043x + -115.30976670188082>   0.00758891  \n",
            "10    <y = 275.7727797870766x + -122.4763894539315>   0.00464571  \n",
            "11   <y = 285.8693520846499x + -127.32274415676669>   0.00285332  \n",
            "12  <y = 292.47815919901194x + -130.49497157166044>   0.00175598  \n",
            "13   <y = 296.7122208368136x + -132.52732115780523>   0.00108199  \n",
            "14   <y = 299.3876931508038x + -133.81154786852056>  0.000667201  \n"
          ]
        },
        {
          "data": {
            "text/plain": [
              "(0.44695072953823356, 0.0006672013539968061, 14)"
            ]
          },
          "execution_count": 9,
          "metadata": {},
          "output_type": "execute_result"
        }
      ],
      "source": [
        "# Exercise 3.2.9\n",
        "# Function to work\n",
        "func = lambda x: tan(pi*x) - 6\n",
        "# Error function\n",
        "error = lambda xi, xi_1: abs(xi - xi_1) / abs(xi_1)\n",
        "\n",
        "# Compute with the false position method\n",
        "false_position_method(0, 0.48, func, error, 10e-4)"
      ]
    },
    {
      "cell_type": "code",
      "execution_count": 10,
      "metadata": {},
      "outputs": [
        {
          "name": "stdout",
          "output_type": "stream",
          "text": [
            "     x0     f(x0)        x1     f(x1)        xi     f(xi)  \\\n",
            "1  -0.1  0.004837  0.100000  0.005171 -3.001000  2.050737   \n",
            "2  -0.1  0.004837 -3.001000  2.050737 -0.093141  0.004206   \n",
            "3  -0.1  0.004837 -0.093141  0.004206 -0.047449  0.001108   \n",
            "4  -0.1  0.004837 -0.047449  0.001108 -0.031834  0.000501   \n",
            "5  -0.1  0.004837 -0.031834  0.000501 -0.023952  0.000285   \n",
            "6  -0.1  0.004837 -0.023952  0.000285 -0.019199  0.000183   \n",
            "7  -0.1  0.004837 -0.019199  0.000183 -0.016020  0.000128   \n",
            "8  -0.1  0.004837 -0.016020  0.000128 -0.013744  0.000094   \n",
            "9  -0.1  0.004837 -0.013744  0.000094 -0.012034  0.000072   \n",
            "10 -0.1  0.004837 -0.012034  0.000072 -0.010703  0.000057   \n",
            "\n",
            "                                           y = mx + b     Error  \n",
            "1   <y = 0.0016675001984409188x + 0.00500416805580...         -  \n",
            "2   <y = -0.7052395319933324x + -0.06568653516337397>   31.2201  \n",
            "3   <y = -0.09205221898734892x + -0.00436780386277...  0.962957  \n",
            "4   <y = -0.07096562153575244x + -0.00225914411761...  0.490503  \n",
            "5   <y = -0.0636103287940693x + -0.001523614843447...  0.329072  \n",
            "6   <y = -0.059868201169143334x + -0.0011494020809...   0.24759  \n",
            "7   <y = -0.05760183929961425x + -0.00092276589400...  0.198452  \n",
            "8   <y = -0.05608203698130358x + -0.00077078566217...  0.165589  \n",
            "9   <y = -0.05499207210028585x + -0.00066178917406...  0.142064  \n",
            "10  <y = -0.05417218278762046x + -0.00057980024280...  0.124391  \n"
          ]
        },
        {
          "data": {
            "text/plain": [
              "(-0.010702914539655961, 0.12439140345374797, 10)"
            ]
          },
          "execution_count": 10,
          "metadata": {},
          "output_type": "execute_result"
        }
      ],
      "source": [
        "# Exercise 3.2.10\n",
        "# Function to work\n",
        "func = lambda x: exp(x) - 1 - x\n",
        "# Error function\n",
        "error = lambda xi, xi_1: abs(xi - xi_1) / abs(xi)\n",
        "\n",
        "# Compute with the false position method\n",
        "false_position_method(-0.1, 0.1, func, error, _iter=10)"
      ]
    },
    {
      "cell_type": "code",
      "execution_count": 11,
      "metadata": {},
      "outputs": [
        {
          "name": "stdout",
          "output_type": "stream",
          "text": [
            "   x0     f(x0)        x1     f(x1)        xi     f(xi)  \\\n",
            "1  -1 -0.367879         1 -0.718282 -3.099754 -2.144814   \n",
            "2  -1 -0.367879  -3.09975 -2.144814 -0.565287 -0.133484   \n",
            "3  -1 -0.367879 -0.565287 -0.133484 -0.317726 -0.045528   \n",
            "4  -1 -0.367879 -0.317726 -0.045528 -0.221363 -0.022789   \n",
            "5  -1 -0.367879 -0.221363 -0.022789 -0.169944 -0.013656   \n",
            "\n",
            "                                          y = mx + b     Error  \n",
            "1  <y = -0.17520119364380138x + -0.5430806348152437>         -  \n",
            "2    <y = 0.8462585930486052x + 0.47837915187716273>    4.4835  \n",
            "3     <y = 0.5391957728865396x + 0.1713163317150973>  0.779168  \n",
            "4     <y = 0.472465891679694x + 0.10458645050825166>  0.435315  \n",
            "5    <y = 0.4431984642265436x + 0.07531902305510124>  0.302562  \n"
          ]
        },
        {
          "data": {
            "text/plain": [
              "(-0.16994423296692984, 0.30256238089958365, 5)"
            ]
          },
          "execution_count": 11,
          "metadata": {},
          "output_type": "execute_result"
        }
      ],
      "source": [
        "# Exercise 3.2.10\n",
        "# Function to work\n",
        "func = lambda x: x + 1 - exp(x)\n",
        "# Error function\n",
        "error = lambda xi, xi_1: abs(xi - xi_1) / abs(xi)\n",
        "\n",
        "# Compute with the false position method\n",
        "false_position_method(-1, 1, func, error, _iter=5)"
      ]
    },
    {
      "cell_type": "code",
      "execution_count": 12,
      "metadata": {},
      "outputs": [
        {
          "name": "stdout",
          "output_type": "stream",
          "text": [
            "   x0 f(x0)       x1        f(x1)         xi         f(xi)  \\\n",
            "1  12    -6       13           19  12.240000 -1.824000e-01   \n",
            "2  13    19    12.24      -0.1824  12.247227 -5.440010e-03   \n",
            "3  13    19  12.2472  -0.00544001  12.247442 -1.621534e-04   \n",
            "4  13    19  12.2474 -0.000162153  12.247449 -4.833312e-06   \n",
            "5  13    19  12.2474 -4.83331e-06  12.247449 -1.440667e-07   \n",
            "\n",
            "                                       y = mx + b        Error  \n",
            "1                            <y = 25.0x + -306.0>            -  \n",
            "2   <y = 25.24000000000001x + -309.1200000000001>   0.00059041  \n",
            "3  <y = 25.247226624405716x + -309.2139461172743>  1.75933e-05  \n",
            "4    <y = 25.2474420940305x + -309.2167472223965>  5.24401e-07  \n",
            "5   <y = 25.247448516596773x + -309.216830715758>  1.56308e-08  \n"
          ]
        },
        {
          "data": {
            "text/plain": [
              "(12.247448708034394, 1.563081744818255e-08, 5)"
            ]
          },
          "execution_count": 12,
          "metadata": {},
          "output_type": "execute_result"
        }
      ],
      "source": [
        "# Exercise 3.2.12\n",
        "# Function to work\n",
        "func = lambda x: pow(x, 2) - 150\n",
        "# Error function\n",
        "error = lambda xi, xi_1: abs(xi - xi_1) / abs(xi_1)\n",
        "\n",
        "# Compute with the false position method\n",
        "false_position_method(12, 13, func, error, 0.5e-7)"
      ]
    },
    {
      "cell_type": "code",
      "execution_count": 13,
      "metadata": {},
      "outputs": [
        {
          "name": "stdout",
          "output_type": "stream",
          "text": [
            "   x0     f(x0)       x1     f(x1)        xi     f(xi)  \\\n",
            "1  -4  3.365884       -2 -1.682942 -2.666667 -0.872519   \n",
            "2  -4  3.365884 -2.66667 -0.872519 -2.941147 -0.172995   \n",
            "3  -4  3.365884 -2.94115 -0.172995 -2.992908 -0.021225   \n",
            "4  -4  3.365884 -2.99291 -0.021225 -2.999219 -0.002342   \n",
            "5  -4  3.365884 -2.99922 -0.002342 -2.999915 -0.000255   \n",
            "\n",
            "                                         y = mx + b        Error  \n",
            "1   <y = -2.5244129544236893x + -6.731767878463172>            -  \n",
            "2    <y = -3.178802348015995x + -9.349325452832392>      0.10293  \n",
            "3    <y = -3.34218198782943x + -10.002844012086133>    0.0175989  \n",
            "4  <y = -3.3632573345535013x + -10.087145398982418>   0.00210858  \n",
            "5  <y = -3.3655978079848445x + -10.096507292707791>  0.000232045  \n"
          ]
        },
        {
          "data": {
            "text/plain": [
              "(-2.9999149835295045, 0.00023204507494952755, 5)"
            ]
          },
          "execution_count": 13,
          "metadata": {},
          "output_type": "execute_result"
        }
      ],
      "source": [
        "# Exercise 3.2.16\n",
        "# Function to work\n",
        "func = lambda x: x * sin(3 + x)\n",
        "# Error function\n",
        "error = lambda xi, xi_1: abs(xi - xi_1) / abs(xi_1)\n",
        "\n",
        "# Compute with the false position method\n",
        "false_position_method(-4, -2, func, error, _iter=5)"
      ]
    },
    {
      "cell_type": "code",
      "execution_count": 14,
      "metadata": {},
      "outputs": [
        {
          "name": "stdout",
          "output_type": "stream",
          "text": [
            "  x0 f(x0)       x1    f(x1)        xi     f(xi)  \\\n",
            "1  2    -8        3       11  2.421053 -1.809010   \n",
            "2  3    11  2.42105 -1.80901  2.502817 -0.322120   \n",
            "3  3    11  2.50282 -0.32212  2.516962 -0.054796   \n",
            "\n",
            "                                        y = mx + b       Error  \n",
            "1                              <y = 19.0x + -46.0>           -  \n",
            "2    <y = 22.12465373961219x + -55.37396121883657>   0.0337723  \n",
            "3  <y = 22.772544557937824x + -57.317633673813475>  0.00565168  \n"
          ]
        },
        {
          "data": {
            "text/plain": [
              "(2.5169621922568277, 0.005651677316422294, 3)"
            ]
          },
          "execution_count": 14,
          "metadata": {},
          "output_type": "execute_result"
        }
      ],
      "source": [
        "# Exercise 3.2.22\n",
        "# Function to work\n",
        "func = lambda x: pow(x, 3) - 16\n",
        "# Error function\n",
        "error = lambda xi, xi_1: abs(xi - xi_1) / abs(xi_1)\n",
        "\n",
        "# Compute with the false position method\n",
        "false_position_method(2, 3, func, error, _iter=3)"
      ]
    },
    {
      "cell_type": "code",
      "execution_count": 10,
      "metadata": {},
      "outputs": [
        {
          "name": "stdout",
          "output_type": "stream",
          "text": [
            "         xu     f(xu)        xl     f(xl)        xr     f(xr)  \\\n",
            "1  0.000000 -0.800000  1.570796  0.570796  0.916720 -0.042002   \n",
            "2  1.570796  0.570796  0.916720 -0.042002  0.961551 -0.002465   \n",
            "3  1.570796  0.570796  0.961551 -0.002465  0.964171 -0.000145   \n",
            "4  1.570796  0.570796  0.964171 -0.000145  0.964324 -0.000008   \n",
            "\n",
            "                                        y = mx + b Error (%)  \n",
            "1                 <y = 0.8726760455264837x + -0.8>         -  \n",
            "2  <y = 0.9368912775793898x + -0.9008690506329868>  4.662346  \n",
            "3  <y = 0.9409368313281969x + -0.9072237916014644>  0.271679  \n",
            "4  <y = 0.9411750655691273x + -0.9075980090720346>  0.015923  \n"
          ]
        },
        {
          "data": {
            "text/plain": [
              "(0.9643243242140199, 0.01592323660862668, 4)"
            ]
          },
          "execution_count": 10,
          "metadata": {},
          "output_type": "execute_result"
        }
      ],
      "source": [
        "# Add your exercise here\n",
        "func = lambda x: x - 0.2 * sin(x) - 0.8\n",
        "# Error function (change it if needed)\n",
        "error_func = lambda current, previous: abs((current - previous)/current) * 100\n",
        "# low-bounded of the interval\n",
        "xl = 0\n",
        "# upper-bounded of the interval\n",
        "xu = pi/2\n",
        "# Tolerance / Error\n",
        "error = 0.0001\n",
        "# Number of iterations\n",
        "_iter = 4\n",
        "\n",
        "# Compute with the bisection method\n",
        "false_position_method(xl, xu, func, error_func, error, _iter)"
      ]
    }
  ],
  "metadata": {
    "colab": {
      "name": "Métodos Numéricos.ipynb",
      "provenance": []
    },
    "kernelspec": {
      "display_name": "Python 3",
      "language": "python",
      "name": "python3"
    },
    "language_info": {
      "codemirror_mode": {
        "name": "ipython",
        "version": 3
      },
      "file_extension": ".py",
      "mimetype": "text/x-python",
      "name": "python",
      "nbconvert_exporter": "python",
      "pygments_lexer": "ipython3",
      "version": "3.10.9"
    }
  },
  "nbformat": 4,
  "nbformat_minor": 0
}
