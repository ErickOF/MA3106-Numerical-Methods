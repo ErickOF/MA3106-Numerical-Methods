{
  "cells": [
    {
      "cell_type": "code",
      "execution_count": 3,
      "metadata": {
        "id": "EjSvOd79HSaQ"
      },
      "outputs": [],
      "source": [
        "# Remove comment of line above to solve the issue \"pandas doesn't exist\"\n",
        "#!pip install pandas\n",
        "\n",
        "from math import *\n",
        "import pandas as pd\n",
        "from typing import Tuple"
      ]
    },
    {
      "cell_type": "markdown",
      "metadata": {
        "id": "vVBudS59IcH3"
      },
      "source": [
        "## **Secant Method**"
      ]
    },
    {
      "cell_type": "code",
      "execution_count": 5,
      "metadata": {
        "id": "ivzvgCOiIe-r"
      },
      "outputs": [],
      "source": [
        "def secant_method(xi_1: float,\n",
        "                  xi: float,\n",
        "                  func=None,\n",
        "                  error_func=None,\n",
        "                  error: float = 1e-10,\n",
        "                  _iter: int = 9e10) -> Tuple[float, float, int]:\n",
        "    \"\"\"Secant method\n",
        "\n",
        "    Params:\n",
        "    ------------------------------------------------------------------\n",
        "        - xi_1: float.\n",
        "            first initial value of x\n",
        "        - xi: float\n",
        "            second initial value of x\n",
        "        - func\n",
        "            lambda function representing the function to work\n",
        "        - error_func\n",
        "            lambda function to compute the error\n",
        "        - error: float\n",
        "            error value\n",
        "        - _iter: int\n",
        "            number of iterations\n",
        "\n",
        "    Returns\n",
        "    ------------------------------------------------------------------\n",
        "        Approximation of x\n",
        "    \"\"\"\n",
        "\n",
        "    # Current iteration\n",
        "    i: int = 0\n",
        "    # Current value of x\n",
        "    x: float = xi\n",
        "    # Current error of the approximation\n",
        "    current_error: float = 1.0\n",
        "\n",
        "    # Visualization\n",
        "    df = pd.DataFrame(columns=['xi-1', 'f(xi-1)', 'xi', 'f(xi)', 'xi+1', 'f(xi+1)', 'y = mx + b', 'Error'])\n",
        "\n",
        "    while (error < current_error and i < _iter):\n",
        "        # Evaluate function\n",
        "        fxi_1: float = func(xi_1)\n",
        "        fxi: float = func(xi)\n",
        "\n",
        "        # Compute the tangent line\n",
        "        m = (fxi - fxi_1) / (xi - xi_1)\n",
        "        b = fxi - m*xi\n",
        "\n",
        "        # Compute the new approximation value\n",
        "        x = -b / m\n",
        "        fx = func(x)\n",
        "\n",
        "        # Save info\n",
        "        data: list = [xi_1, fxi_1, xi, fxi, x, fx, f'y = {m}x + {b}']\n",
        "\n",
        "        # Save the previous approximation value\n",
        "        xi_1 = xi\n",
        "        # Save the current approximation value\n",
        "        xi = x\n",
        "\n",
        "        # Compute the new error\n",
        "        current_error = error_func(xi, xi_1)\n",
        "\n",
        "        # Add info\n",
        "        df.loc[i] = data + [current_error if i > 0 else '-']\n",
        "\n",
        "        i += 1\n",
        "\n",
        "    df.index = df.index + 1\n",
        "\n",
        "    print(df)\n",
        "\n",
        "    return x, current_error, i"
      ]
    },
    {
      "cell_type": "markdown",
      "metadata": {},
      "source": [
        "# **Book Examples**"
      ]
    },
    {
      "cell_type": "code",
      "execution_count": 3,
      "metadata": {},
      "outputs": [
        {
          "name": "stdout",
          "output_type": "stream",
          "text": [
            "        x0     f(x0)       x1     f(x1)        xi     f(xi)  \\\n",
            "1        1  0.540302        2 -3.416147  1.136562  0.128941   \n",
            "2        2 -3.416147  1.13656  0.128941  1.167967  0.027875   \n",
            "3  1.13656  0.128941  1.16797  0.027875  1.176629 -0.000416   \n",
            "4  1.16797  0.027875  1.17663 -0.000416  1.176502  0.000001   \n",
            "\n",
            "                                      y = mx + b        Error  \n",
            "1    y = -3.956449142415282x + 4.496751448283422            -  \n",
            "2    y = -4.105784046709758x + 4.795421256872373    0.0268884  \n",
            "3  y = -3.2181788761095205x + 3.7866025680103985    0.0073615  \n",
            "4  y = -3.2662381293712044x + 3.8427342013497547  0.000108328  \n"
          ]
        },
        {
          "data": {
            "text/plain": [
              "(1.1765015437161448, 0.000108328438660312, 4)"
            ]
          },
          "execution_count": 3,
          "metadata": {},
          "output_type": "execute_result"
        }
      ],
      "source": [
        "# Example 3.1\n",
        "# Function to work\n",
        "func = lambda x: cos(x) - pow(x, 2) + 1\n",
        "# Error function\n",
        "error = lambda xi, xi_1: abs(xi - xi_1) / abs(xi)\n",
        "\n",
        "# Compute with the secant method\n",
        "secant_method(1, 2, func, error, 0.001)"
      ]
    },
    {
      "cell_type": "code",
      "execution_count": 4,
      "metadata": {},
      "outputs": [
        {
          "name": "stdout",
          "output_type": "stream",
          "text": [
            "        x0     f(x0)       x1     f(x1)        xi     f(xi)  \\\n",
            "1        1 -0.540302        2  3.416147  1.136562 -0.128941   \n",
            "2        2  3.416147  1.13656 -0.128941  1.167967 -0.027875   \n",
            "3  1.13656 -0.128941  1.16797 -0.027875  1.176629  0.000416   \n",
            "4  1.16797 -0.027875  1.17663  0.000416  1.176502 -0.000001   \n",
            "\n",
            "                                      y = mx + b        Error  \n",
            "1    y = 3.956449142415282x + -4.496751448283422            -  \n",
            "2    y = 4.105784046709758x + -4.795421256872373    0.0314048  \n",
            "3  y = 3.2181788761095205x + -3.7866025680103985   0.00866175  \n",
            "4  y = 3.2662381293712044x + -3.8427342013497547  0.000127449  \n"
          ]
        },
        {
          "data": {
            "text/plain": [
              "(1.1765015437161448, 0.00012744857531221676, 4)"
            ]
          },
          "execution_count": 4,
          "metadata": {},
          "output_type": "execute_result"
        }
      ],
      "source": [
        "# Example 3.1\n",
        "# Function to work\n",
        "func = lambda x: pow(x, 2) - cos(x) - 1\n",
        "# Error function\n",
        "error = lambda xi, xi_1: abs(xi - xi_1)\n",
        "\n",
        "# Compute with the secant method\n",
        "secant_method(1, 2, func, error, 0.001)"
      ]
    },
    {
      "cell_type": "code",
      "execution_count": 5,
      "metadata": {},
      "outputs": [
        {
          "name": "stdout",
          "output_type": "stream",
          "text": [
            "        x0    f(x0)       x1      f(x1)        xi     f(xi)  \\\n",
            "1        1       -1        3          7  1.250000 -0.437500   \n",
            "2        3        7     1.25    -0.4375  1.352941 -0.169550   \n",
            "3     1.25  -0.4375  1.35294   -0.16955  1.418079  0.010948   \n",
            "4  1.35294 -0.16955  1.41808  0.0109483  1.414128 -0.000242   \n",
            "\n",
            "                                      y = mx + b       Error  \n",
            "1                                y = 4.0x + -5.0           -  \n",
            "2                              y = 4.25x + -5.75    0.076087  \n",
            "3   y = 2.602941176470589x + -3.6911764705882364   0.0459339  \n",
            "4  y = 2.7710202725157864x + -3.9185776005317385  0.00279395  \n"
          ]
        },
        {
          "data": {
            "text/plain": [
              "(1.4141280882705685, 0.002793953254588947, 4)"
            ]
          },
          "execution_count": 5,
          "metadata": {},
          "output_type": "execute_result"
        }
      ],
      "source": [
        "# Example 3.2\n",
        "# Function to work\n",
        "func = lambda x: pow(x, 2) - 2\n",
        "# Error function\n",
        "error = lambda xi, xi_1: abs(xi - xi_1) / abs(xi)\n",
        "\n",
        "# Compute with the secant method\n",
        "secant_method(1, 3, func, error, 0.005)"
      ]
    },
    {
      "cell_type": "markdown",
      "metadata": {},
      "source": [
        "# **Proposed Exercises**"
      ]
    },
    {
      "cell_type": "code",
      "execution_count": 12,
      "metadata": {
        "colab": {
          "base_uri": "https://localhost:8080/"
        },
        "id": "Jy2MxiR0KI7e",
        "outputId": "eb248d01-c8f6-4d21-faaf-efb2707b1421"
      },
      "outputs": [
        {
          "name": "stdout",
          "output_type": "stream",
          "text": [
            "        x0     f(x0)       x1     f(x1)        xi     f(xi)  \\\n",
            "1        1 -0.281718        2  3.389056  1.076746 -0.141632   \n",
            "2        2  3.389056  1.07675 -0.141632  1.113782 -0.067925   \n",
            "3  1.07675 -0.141632  1.11378 -0.067925  1.147913  0.003696   \n",
            "4  1.11378 -0.067925  1.14791  0.003696  1.146152 -0.000089   \n",
            "\n",
            "                                      y = mx + b       Error  \n",
            "1  y = 3.6707742704716053x + -3.9524924420125602           -  \n",
            "2   y = 3.8241799552533733x + -4.259303811576096   0.0332525  \n",
            "3   y = 1.9901435942925827x + -2.284512031709332    0.029733  \n",
            "4   y = 2.098432233970463x + -2.4051219980621905  0.00153672  \n"
          ]
        },
        {
          "data": {
            "text/plain": [
              "(1.1461518552407275, 0.001536715698193753, 4)"
            ]
          },
          "execution_count": 12,
          "metadata": {},
          "output_type": "execute_result"
        }
      ],
      "source": [
        "# Exercise 3.2.24\n",
        "# Function to work\n",
        "func = lambda x: exp(x) - 2 - x\n",
        "# Error function\n",
        "error = lambda xi, xi_1: abs(xi - xi_1) / abs(xi)\n",
        "\n",
        "# Compute with the secant method\n",
        "secant_method(1, 2, func, error, 0.005)"
      ]
    },
    {
      "cell_type": "code",
      "execution_count": 7,
      "metadata": {
        "colab": {
          "base_uri": "https://localhost:8080/"
        },
        "id": "ccvfinBBs3g_",
        "outputId": "6094c6ce-c001-4cc7-bec4-8bf3ae0e9c60"
      },
      "outputs": [
        {
          "name": "stdout",
          "output_type": "stream",
          "text": [
            "        x0     f(x0)       x1     f(x1)        xi         f(xi)  \\\n",
            "1       -4  3.959970       -2 -1.080605 -2.428762 -3.438078e-01   \n",
            "2       -2 -1.080605 -2.42876 -0.343808 -2.628834  1.524851e-01   \n",
            "3 -2.42876 -0.343808 -2.62883  0.152485 -2.567362 -8.816605e-03   \n",
            "4 -2.62883  0.152485 -2.56736 -0.008817 -2.570722 -1.905891e-04   \n",
            "5 -2.56736 -0.008817 -2.57072 -0.000191 -2.570796  2.553310e-07   \n",
            "\n",
            "                                      y = mx + b        Error  \n",
            "1  y = -2.5202872990690306x + -6.121179209874341            -  \n",
            "2  y = -1.7184265515226833x + -4.517457714781647     0.200071  \n",
            "3  y = -2.4805804199175783x + -6.368548427998129    0.0614715  \n",
            "4   y = -2.62400622897805x + -6.7455910354141455   0.00335998  \n",
            "5   y = -2.567282913737358x + -6.599961739461324  7.42377e-05  \n"
          ]
        },
        {
          "data": {
            "text/plain": [
              "(-2.5707964261146965, 7.423768403302944e-05, 5)"
            ]
          },
          "execution_count": 7,
          "metadata": {},
          "output_type": "execute_result"
        }
      ],
      "source": [
        "func = lambda x: x*cos(1 + x)\n",
        "error = lambda x, xi: abs(x - xi)\n",
        "\n",
        "secant_method(-4, -2, func, error, _iter=5)"
      ]
    },
    {
      "cell_type": "code",
      "execution_count": 6,
      "metadata": {},
      "outputs": [
        {
          "name": "stdout",
          "output_type": "stream",
          "text": [
            "       xi-1   f(xi-1)        xi     f(xi)      xi+1   f(xi+1)  \\\n",
            "1  0.500000  1.290212  1.500000 -3.271740  0.782820  0.794815   \n",
            "2  1.500000 -3.271740  0.782820  0.794815  0.922994  0.352582   \n",
            "3  0.782820  0.794815  0.922994  0.352582  1.034752 -0.128108   \n",
            "4  0.922994  0.352582  1.034752 -0.128108  1.004967  0.012142   \n",
            "\n",
            "                                     y = mx + b      Error  \n",
            "1   y = -4.561952613683154x + 3.571188507628174          -  \n",
            "2   y = -5.670203848772455x + 5.233565360262126  15.186883  \n",
            "3   y = -3.154885739620998x + 3.264523617590794  10.800422  \n",
            "4  y = -4.301189609222454x + 4.3225554598815075   2.963713  \n"
          ]
        },
        {
          "data": {
            "text/plain": [
              "(1.0049674282234018, 2.96371260351763, 4)"
            ]
          },
          "execution_count": 6,
          "metadata": {},
          "output_type": "execute_result"
        }
      ],
      "source": [
        "# Add your exercise here\n",
        "func = lambda x: 2 + cos(e**x - 2) - e**x\n",
        "# Error function (change it if needed)\n",
        "error_func = lambda current, previous: abs((current - previous)/current) * 100\n",
        "# low-bounded of the interval / x_{i-1}\n",
        "xi_1 = 0.5\n",
        "# upper-bounded of the interval\n",
        "xi = 1.5\n",
        "# Tolerance / Error\n",
        "error = 0.0001\n",
        "# Number of iterations\n",
        "_iter = 4\n",
        "\n",
        "# Compute with the bisection method\n",
        "secant_method(xi_1, xi, func, error_func, error, _iter)"
      ]
    }
  ],
  "metadata": {
    "colab": {
      "name": "Métodos Numéricos.ipynb",
      "provenance": []
    },
    "kernelspec": {
      "display_name": "Python 3",
      "language": "python",
      "name": "python3"
    },
    "language_info": {
      "codemirror_mode": {
        "name": "ipython",
        "version": 3
      },
      "file_extension": ".py",
      "mimetype": "text/x-python",
      "name": "python",
      "nbconvert_exporter": "python",
      "pygments_lexer": "ipython3",
      "version": "3.10.9"
    }
  },
  "nbformat": 4,
  "nbformat_minor": 0
}
