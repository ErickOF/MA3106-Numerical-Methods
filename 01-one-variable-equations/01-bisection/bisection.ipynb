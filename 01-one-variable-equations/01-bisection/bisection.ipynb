{
  "nbformat": 4,
  "nbformat_minor": 0,
  "metadata": {
    "colab": {
      "name": "Métodos Numéricos.ipynb",
      "provenance": []
    },
    "kernelspec": {
      "name": "python3",
      "display_name": "Python 3",
      "language": "python"
    }
  },
  "cells": [
    {
      "cell_type": "code",
      "metadata": {
        "id": "EjSvOd79HSaQ"
      },
      "source": [
        "from math import pow, exp, sin, cos, tan, pi"
      ],
      "execution_count": 1,
      "outputs": []
    },
    {
      "cell_type": "markdown",
      "metadata": {
        "id": "-pCgieLCFpUT"
      },
      "source": [
        "## **Método de la Bisección**"
      ]
    },
    {
      "cell_type": "code",
      "metadata": {
        "id": "CJEqWpVfFocO"
      },
      "source": [
        "def bisection_method(a: float,\n",
        "                     b: float,\n",
        "                     func=None,\n",
        "                     error_func=None,\n",
        "                     error: float = 1e-10,\n",
        "                     _iter: int = 9e10):\n",
        "    \"\"\"Bisection method\n",
        "\n",
        "    Params:\n",
        "    ------------------------------------------------------------------\n",
        "        - a: float.\n",
        "            left-bounded of the interval\n",
        "        - b: float\n",
        "            right-bounded of the interval\n",
        "        - func\n",
        "            lambda function representing the function to work\n",
        "        - error_func\n",
        "            lambda function to compute the error\n",
        "        - error: float\n",
        "            error value\n",
        "        - _iter: int\n",
        "            number of iterations\n",
        "\n",
        "    Returns\n",
        "    ------------------------------------------------------------------\n",
        "        Approximation of x\n",
        "    \"\"\"\n",
        "    # Check Bolzano Theorem\n",
        "    if func(a) * func(b) >= 0:\n",
        "        raise ValueError(\"Do not satisfy the Bolzano Theorem\")\n",
        "\n",
        "    # Current iteration\n",
        "    i: int = 0\n",
        "    # Previous value of x\n",
        "    xi_1:  float = a\n",
        "    # Current value of x\n",
        "    x: float = b\n",
        "    # Current error of the approximation\n",
        "    current_error: float = 1\n",
        "\n",
        "    while (error < current_error and i < _iter):\n",
        "        # Save the previous approximation value\n",
        "        xi_1 = x\n",
        "        # Compute the new approximation value\n",
        "        x = (a + b) / 2\n",
        "\n",
        "        # Evaluate functions\n",
        "        fa: float = func(a)\n",
        "        fb: float = func(b)\n",
        "        fx: float = func(x)\n",
        "\n",
        "        # Compute the new error\n",
        "        current_error = error_func(x, xi_1)\n",
        "\n",
        "        # Show info\n",
        "        print(i, a, b, fa, fb, x, fx, current_error if i > 0 else \"-\", sep=\"\\t\")\n",
        "\n",
        "        # Check intervals\n",
        "        if (fx * fb < 0):\n",
        "            a = x\n",
        "        elif (fx * fa < 0):\n",
        "            b = x\n",
        "        # Root was found\n",
        "        else:\n",
        "            return x\n",
        "\n",
        "        i += 1\n",
        "\n",
        "    # Current approximation of x\n",
        "    return x"
      ],
      "execution_count": 2,
      "outputs": []
    },
    {
      "cell_type": "code",
      "metadata": {
        "colab": {
          "base_uri": "https://localhost:8080/"
        },
        "id": "vnCRvS_EGT_O",
        "outputId": "9dba0c84-9cfd-4bd3-a907-d8ed4f229e03"
      },
      "source": [
        "# Function to work\n",
        "func = lambda x: exp(x) - sin(3*x) - 2\n",
        "# Error function\n",
        "error = lambda xi, xi_1: abs(xi - xi_1)\n",
        "\n",
        "  # Compute with the bisection method\n",
        "bisection_method(0, 1, func, error, 0.05)"
      ],
      "execution_count": 3,
      "outputs": [
        {
          "output_type": "stream",
          "name": "stdout",
          "text": [
            "0\t0\t1\t-1.0\t0.5771618203991777\t0.5\t-1.3487737159039264\t-\n1\t0.5\t1\t-1.3487737159039264\t0.5771618203991777\t0.75\t-0.6610731802752463\t0.25\n2\t0.75\t1\t-0.6610731802752463\t0.5771618203991777\t0.875\t-0.09504500464299115\t0.125\n3\t0.875\t1\t-0.09504500464299115\t0.5771618203991777\t0.9375\t0.23040495106323977\t0.0625\n4\t0.875\t0.9375\t-0.09504500464299115\t0.23040495106323977\t0.90625\t0.06466937233481396\t0.03125\n"
          ]
        },
        {
          "output_type": "execute_result",
          "data": {
            "text/plain": [
              "0.90625"
            ]
          },
          "metadata": {},
          "execution_count": 3
        }
      ]
    },
    {
      "cell_type": "code",
      "metadata": {
        "colab": {
          "base_uri": "https://localhost:8080/"
        },
        "id": "rhv9czc3dATb",
        "outputId": "e108cc58-3d1a-415b-a38b-6735078169d1"
      },
      "source": [
        "func = lambda x: tan(pi*x) - 6\r\n",
        "error = lambda xi, xi_1: abs(xi - xi_1) / abs(xi_1)\r\n",
        "\r\n",
        "bisection_method(0, 0.48, func, error, _iter=20)"
      ],
      "execution_count": 4,
      "outputs": [
        {
          "output_type": "stream",
          "name": "stdout",
          "text": [
            "0\t0\t0.48\t-6.0\t9.894544843865265\t0.24\t-5.060937494182507\t-\n1\t0.24\t0.48\t-5.060937494182507\t9.894544843865265\t0.36\t-3.874891826842797\t0.5\n2\t0.36\t0.48\t-3.874891826842797\t9.894544843865265\t0.42\t-2.105257145070144\t0.16666666666666666\n3\t0.42\t0.48\t-2.105257145070144\t9.894544843865265\t0.44999999999999996\t0.3137515146750314\t0.07142857142857137\n4\t0.42\t0.44999999999999996\t-2.105257145070144\t0.3137515146750314\t0.43499999999999994\t-1.171182647807246\t0.03333333333333337\n5\t0.43499999999999994\t0.44999999999999996\t-1.171182647807246\t0.3137515146750314\t0.44249999999999995\t-0.5245211508218706\t0.017241379310344845\n6\t0.44249999999999995\t0.44999999999999996\t-0.5245211508218706\t0.3137515146750314\t0.4462499999999999\t-0.13434976287736955\t0.008474576271186387\n7\t0.4462499999999999\t0.44999999999999996\t-0.13434976287736955\t0.3137515146750314\t0.44812499999999994\t0.08167438867622234\t0.004201680672268943\n8\t0.4462499999999999\t0.44812499999999994\t-0.13434976287736955\t0.08167438867622234\t0.44718749999999996\t-0.028237440581283302\t0.0020920502092049765\n9\t0.44718749999999996\t0.44812499999999994\t-0.028237440581283302\t0.08167438867622234\t0.44765625\t0.0262307752703812\t0.0010482180293501446\n10\t0.44718749999999996\t0.44765625\t-0.028237440581283302\t0.0262307752703812\t0.44742187499999997\t-0.0011236267485612572\t0.0005235602094241037\n11\t0.44742187499999997\t0.44765625\t-0.0011236267485612572\t0.0262307752703812\t0.4475390625\t0.012523299188980097\t0.00026191723415401727\n12\t0.44742187499999997\t0.4475390625\t-0.0011236267485612572\t0.012523299188980097\t0.44748046874999997\t0.005692292786342534\t0.0001309243257397274\n13\t0.44742187499999997\t0.44748046874999997\t-0.0011236267485612572\t0.005692292786342534\t0.44745117187499994\t0.0022824503148219932\t6.547073458170652e-05\n14\t0.44742187499999997\t0.44745117187499994\t-0.0011236267485612572\t0.0022824503148219932\t0.44743652343749996\t0.0005789415006463017\t3.2737510639661186e-05\n15\t0.44742187499999997\t0.44743652343749996\t-0.0011236267485612572\t0.0005789415006463017\t0.44742919921874996\t-0.00027246014543091945\t1.6369291209675733e-05\n16\t0.44742919921874996\t0.44743652343749996\t-0.00027246014543091945\t0.0005789415006463017\t0.447432861328125\t0.00015321129109757692\t8.184779583940396e-06\n17\t0.44742919921874996\t0.447432861328125\t-0.00027246014543091945\t0.00015321129109757692\t0.44743103027343745\t-5.963177303058842e-05\t4.092356296997961e-06\n18\t0.44743103027343745\t0.447432861328125\t-5.963177303058842e-05\t0.00015321129109757692\t0.4474319458007812\t4.678792247680974e-05\t2.04618652222328e-06\n19\t0.44743103027343745\t0.4474319458007812\t-5.963177303058842e-05\t4.678792247680974e-05\t0.4474314880371093\t-6.422384409177084e-06\t1.0230911677383146e-06\n"
          ]
        },
        {
          "output_type": "execute_result",
          "data": {
            "text/plain": [
              "0.4474314880371093"
            ]
          },
          "metadata": {},
          "execution_count": 4
        }
      ]
    },
    {
      "cell_type": "code",
      "metadata": {
        "colab": {
          "base_uri": "https://localhost:8080/"
        },
        "id": "BW91lcucsBzQ",
        "outputId": "74779a61-4960-4450-d01e-8a012effbb51"
      },
      "source": [
        "func = lambda x: pow(x, 2) - 7\r\n",
        "error = lambda xi, xi_1: abs(xi - xi_1) / abs(xi_1)\r\n",
        "\r\n",
        "bisection_method(2, 3, func, error, _iter=5)"
      ],
      "execution_count": 5,
      "outputs": [
        {
          "output_type": "stream",
          "name": "stdout",
          "text": [
            "0\t2\t3\t-3.0\t2.0\t2.5\t-0.75\t-\n1\t2.5\t3\t-0.75\t2.0\t2.75\t0.5625\t0.1\n2\t2.5\t2.75\t-0.75\t0.5625\t2.625\t-0.109375\t0.045454545454545456\n3\t2.625\t2.75\t-0.109375\t0.5625\t2.6875\t0.22265625\t0.023809523809523808\n4\t2.625\t2.6875\t-0.109375\t0.22265625\t2.65625\t0.0556640625\t0.011627906976744186\n"
          ]
        },
        {
          "output_type": "execute_result",
          "data": {
            "text/plain": [
              "2.65625"
            ]
          },
          "metadata": {},
          "execution_count": 5
        }
      ]
    },
    {
      "cell_type": "code",
      "metadata": {
        "colab": {
          "base_uri": "https://localhost:8080/"
        },
        "id": "JAQ9Hz6n-5sl",
        "outputId": "6755b5b2-f757-496d-d1fc-994b2ce34cfd"
      },
      "source": [
        "func = lambda x: pow(x, 2) - 7\r\n",
        "error = lambda xi, xi_1: abs(xi - xi_1) / abs(xi_1)\r\n",
        "\r\n",
        "bisection_method(2, 3, func, error, _iter=5)"
      ],
      "execution_count": 6,
      "outputs": [
        {
          "output_type": "stream",
          "name": "stdout",
          "text": [
            "0\t2\t3\t-3.0\t2.0\t2.5\t-0.75\t-\n1\t2.5\t3\t-0.75\t2.0\t2.75\t0.5625\t0.1\n2\t2.5\t2.75\t-0.75\t0.5625\t2.625\t-0.109375\t0.045454545454545456\n3\t2.625\t2.75\t-0.109375\t0.5625\t2.6875\t0.22265625\t0.023809523809523808\n4\t2.625\t2.6875\t-0.109375\t0.22265625\t2.65625\t0.0556640625\t0.011627906976744186\n"
          ]
        },
        {
          "output_type": "execute_result",
          "data": {
            "text/plain": [
              "2.65625"
            ]
          },
          "metadata": {},
          "execution_count": 6
        }
      ]
    },
    {
      "cell_type": "code",
      "metadata": {
        "colab": {
          "base_uri": "https://localhost:8080/"
        },
        "id": "iqxWkdC8_GI7",
        "outputId": "9fdb7d90-660e-4023-e693-6c12d0044086"
      },
      "source": [
        "func = lambda x: exp(3*x) + cos(x) - 4\r\n",
        "error = lambda xi, xi_1: abs(xi - xi_1)\r\n",
        "\r\n",
        "bisection_method(0, 1, func, error, _iter=5)"
      ],
      "execution_count": 7,
      "outputs": [
        {
          "output_type": "stream",
          "name": "stdout",
          "text": [
            "0\t0\t1\t-2.0\t16.625839229055806\t0.5\t1.3592716322284373\t-\n1\t0\t0.5\t-2.0\t1.3592716322284373\t0.25\t-0.9140875616766806\t0.25\n2\t0.25\t0.5\t-0.9140875616766806\t1.3592716322284373\t0.375\t0.010724470830345112\t0.125\n3\t0.25\t0.375\t-0.9140875616766806\t0.010724470830345112\t0.3125\t-0.49484259388890095\t0.0625\n4\t0.3125\t0.375\t-0.49484259388890095\t0.010724470830345112\t0.34375\t-0.25393318063489234\t0.03125\n"
          ]
        },
        {
          "output_type": "execute_result",
          "data": {
            "text/plain": [
              "0.34375"
            ]
          },
          "metadata": {},
          "execution_count": 7
        }
      ]
    }
  ]
}