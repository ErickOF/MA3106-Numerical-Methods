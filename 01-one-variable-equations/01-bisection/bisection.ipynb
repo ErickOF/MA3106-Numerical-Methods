{
  "nbformat": 4,
  "nbformat_minor": 0,
  "metadata": {
    "colab": {
      "name": "Métodos Numéricos.ipynb",
      "provenance": []
    },
    "kernelspec": {
      "name": "python3",
      "display_name": "Python 3",
      "language": "python"
    }
  },
  "cells": [
    {
      "cell_type": "code",
      "metadata": {
        "id": "EjSvOd79HSaQ"
      },
      "source": [
        "from math import exp, sin, cos, tan, pi\n",
        "import pandas as pd\n",
        "from typing import Tuple"
      ],
      "execution_count": 1,
      "outputs": []
    },
    {
      "cell_type": "markdown",
      "metadata": {
        "id": "-pCgieLCFpUT"
      },
      "source": [
        "# **Bisection Method**"
      ]
    },
    {
      "cell_type": "code",
      "metadata": {
        "id": "CJEqWpVfFocO"
      },
      "source": [
        "def bisection_method(a: float,\n",
        "                     b: float,\n",
        "                     func=None,\n",
        "                     error_func=None,\n",
        "                     error: float = 1e-10,\n",
        "                     _iter: int = 9e10) -> Tuple[float, float, int]:\n",
        "    \"\"\"Bisection method\n",
        "\n",
        "    Params:\n",
        "    ------------------------------------------------------------------\n",
        "        - a: float.\n",
        "            left-bounded of the interval\n",
        "        - b: float\n",
        "            right-bounded of the interval\n",
        "        - func\n",
        "            lambda function representing the function to work\n",
        "        - error_func\n",
        "            lambda function to compute the error\n",
        "        - error: float\n",
        "            error value\n",
        "        - _iter: int\n",
        "            number of iterations\n",
        "\n",
        "    Returns\n",
        "    ------------------------------------------------------------------\n",
        "        - Approximation of x\n",
        "        - Error\n",
        "        - Number of iterations\n",
        "    \"\"\"\n",
        "    # Check Bolzano Theorem\n",
        "    if func(a) * func(b) >= 0:\n",
        "        raise ValueError(\"Do not satisfy the Bolzano Theorem\")\n",
        "\n",
        "    # Visualization\n",
        "    df = pd.DataFrame(columns=['a', 'f(a)', 'b', 'f(b)', 'xn', 'f(xn)', 'Error'])\n",
        "\n",
        "    # Current iteration\n",
        "    i: int = 0\n",
        "    # Previous value of x\n",
        "    xi_1:  float = a\n",
        "    # Current value of x\n",
        "    x: float = b\n",
        "    # Current error of the approximation\n",
        "    current_error: float = 1.0\n",
        "\n",
        "    while (error < current_error and i < _iter):\n",
        "        # Save the previous approximation value\n",
        "        xi_1 = x\n",
        "        # Compute the new approximation value\n",
        "        x = (a + b) / 2\n",
        "\n",
        "        # Evaluate functions\n",
        "        fa: float = func(a)\n",
        "        fb: float = func(b)\n",
        "        fx: float = func(x)\n",
        "\n",
        "        # Compute the new error\n",
        "        current_error = error_func(x, xi_1)\n",
        "\n",
        "        # Add info\n",
        "        df.loc[i] = [a, fa, b, fb, x, fx, current_error if i > 0 else '-']\n",
        "\n",
        "        # Check intervals\n",
        "        if (fx * fb < 0):\n",
        "            a = x\n",
        "        elif (fx * fa < 0):\n",
        "            b = x\n",
        "        # Root was found\n",
        "        else:\n",
        "            return x, current_error, i\n",
        "\n",
        "        i += 1\n",
        "\n",
        "    print(df)\n",
        "    return x, current_error, i"
      ],
      "execution_count": 2,
      "outputs": []
    },
    {
      "source": [
        "# **Book Examples**"
      ],
      "cell_type": "markdown",
      "metadata": {}
    },
    {
      "cell_type": "code",
      "execution_count": 3,
      "metadata": {},
      "outputs": [
        {
          "output_type": "stream",
          "name": "stdout",
          "text": [
            "         a      f(a)        b      f(b)        xn     f(xn)        Error\n0        1  0.540302        2 -3.416147  1.500000 -1.179263            -\n1        1  0.540302      1.5 -1.179263  1.250000 -0.247178         0.25\n2        1  0.540302     1.25 -0.247178  1.125000  0.165552        0.125\n3    1.125  0.165552     1.25 -0.247178  1.187500 -0.036177       0.0625\n4    1.125  0.165552   1.1875 -0.036177  1.156250  0.065861      0.03125\n5  1.15625  0.065861   1.1875 -0.036177  1.171875  0.015134     0.015625\n6  1.17188  0.015134   1.1875 -0.036177  1.179688 -0.010449    0.0078125\n7  1.17188  0.015134  1.17969 -0.010449  1.175781  0.002361   0.00390625\n8  1.17578  0.002361  1.17969 -0.010449  1.177734 -0.004040   0.00195312\n9  1.17578  0.002361  1.17773 -0.004040  1.176758 -0.000838  0.000976562\n"
          ]
        },
        {
          "output_type": "execute_result",
          "data": {
            "text/plain": [
              "(1.1767578125, 0.0009765625, 10)"
            ]
          },
          "metadata": {},
          "execution_count": 3
        }
      ],
      "source": [
        "# Example 3.1\n",
        "# Function to work\n",
        "func = lambda x: cos(x) - pow(x, 2) + 1\n",
        "# Error function\n",
        "error = lambda xi, xi_1: abs(xi - xi_1)\n",
        "\n",
        "# Compute with the bisection method\n",
        "bisection_method(1, 2, func, error, 0.001)"
      ]
    },
    {
      "cell_type": "code",
      "execution_count": 4,
      "metadata": {},
      "outputs": [
        {
          "output_type": "stream",
          "name": "stdout",
          "text": [
            "         a      f(a)        b      f(b)        xn     f(xn)        Error\n0        1 -0.540302        2  3.416147  1.500000  1.179263            -\n1        1 -0.540302      1.5  1.179263  1.250000  0.247178         0.25\n2        1 -0.540302     1.25  0.247178  1.125000 -0.165552        0.125\n3    1.125 -0.165552     1.25  0.247178  1.187500  0.036177       0.0625\n4    1.125 -0.165552   1.1875  0.036177  1.156250 -0.065861      0.03125\n5  1.15625 -0.065861   1.1875  0.036177  1.171875 -0.015134     0.015625\n6  1.17188 -0.015134   1.1875  0.036177  1.179688  0.010449    0.0078125\n7  1.17188 -0.015134  1.17969  0.010449  1.175781 -0.002361   0.00390625\n8  1.17578 -0.002361  1.17969  0.010449  1.177734  0.004040   0.00195312\n9  1.17578 -0.002361  1.17773  0.004040  1.176758  0.000838  0.000976562\n"
          ]
        },
        {
          "output_type": "execute_result",
          "data": {
            "text/plain": [
              "(1.1767578125, 0.0009765625, 10)"
            ]
          },
          "metadata": {},
          "execution_count": 4
        }
      ],
      "source": [
        "# Example 3.1\n",
        "# Function to work\n",
        "func = lambda x: pow(x, 2) - cos(x) - 1\n",
        "# Error function\n",
        "error = lambda xi, xi_1: abs(xi - xi_1)\n",
        "\n",
        "# Compute with the bisection method\n",
        "bisection_method(1, 2, func, error, 0.001)"
      ]
    },
    {
      "cell_type": "code",
      "execution_count": 5,
      "metadata": {},
      "outputs": [
        {
          "output_type": "stream",
          "name": "stdout",
          "text": [
            "         a         f(a)        b       f(b)        xn     f(xn)       Error\n0        1           -1        3          7  2.000000  2.000000           -\n1        1           -1        2          2  1.500000  0.250000    0.333333\n2        1           -1      1.5       0.25  1.250000 -0.437500         0.2\n3     1.25      -0.4375      1.5       0.25  1.375000 -0.109375   0.0909091\n4    1.375    -0.109375      1.5       0.25  1.437500  0.066406   0.0434783\n5    1.375    -0.109375   1.4375  0.0664062  1.406250 -0.022461   0.0222222\n6  1.40625   -0.0224609   1.4375  0.0664062  1.421875  0.021729    0.010989\n7  1.40625   -0.0224609  1.42188  0.0217285  1.414062 -0.000427  0.00552486\n8  1.41406 -0.000427246  1.42188  0.0217285  1.417969  0.010635  0.00275482\n9  1.41406 -0.000427246  1.41797  0.0106354  1.416016  0.005100  0.00137931\n"
          ]
        },
        {
          "output_type": "execute_result",
          "data": {
            "text/plain": [
              "(1.416015625, 0.001379310344827586, 10)"
            ]
          },
          "metadata": {},
          "execution_count": 5
        }
      ],
      "source": [
        "# Example 3.2\n",
        "# Function to work\n",
        "func = lambda x: pow(x, 2) - 2\n",
        "# Error function\n",
        "error = lambda xi, xi_1: abs(xi - xi_1) / abs(xi)\n",
        "\n",
        "# Compute with the bisection method\n",
        "bisection_method(1, 3, func, error, 0.002)"
      ]
    },
    {
      "cell_type": "code",
      "metadata": {
        "colab": {
          "base_uri": "https://localhost:8080/"
        },
        "id": "vnCRvS_EGT_O",
        "outputId": "9dba0c84-9cfd-4bd3-a907-d8ed4f229e03"
      },
      "source": [
        "# Example 3.8\n",
        "# Function to work\n",
        "func = lambda x: exp(x) - sin(3*x) - 2\n",
        "# Error function\n",
        "error = lambda xi, xi_1: abs(xi - xi_1)\n",
        "\n",
        "# Compute with the bisection method\n",
        "bisection_method(0, 1, func, error, 0.001)"
      ],
      "execution_count": 6,
      "outputs": [
        {
          "output_type": "stream",
          "name": "stdout",
          "text": [
            "          a      f(a)         b      f(b)        xn     f(xn)        Error\n0         0 -1.000000         1  0.577162  0.500000 -1.348774            -\n1       0.5 -1.348774         1  0.577162  0.750000 -0.661073         0.25\n2      0.75 -0.661073         1  0.577162  0.875000 -0.095045        0.125\n3     0.875 -0.095045         1  0.577162  0.937500  0.230405       0.0625\n4     0.875 -0.095045    0.9375  0.230405  0.906250  0.064669      0.03125\n5     0.875 -0.095045   0.90625  0.064669  0.890625 -0.015982     0.015625\n6  0.890625 -0.015982   0.90625  0.064669  0.898438  0.024150    0.0078125\n7  0.890625 -0.015982  0.898438  0.024150  0.894531  0.004035   0.00390625\n8  0.890625 -0.015982  0.894531  0.004035  0.892578 -0.005986   0.00195312\n9  0.892578 -0.005986  0.894531  0.004035  0.893555 -0.000979  0.000976562\n"
          ]
        },
        {
          "output_type": "execute_result",
          "data": {
            "text/plain": [
              "(0.8935546875, 0.0009765625, 10)"
            ]
          },
          "metadata": {},
          "execution_count": 6
        }
      ]
    },
    {
      "cell_type": "code",
      "execution_count": 7,
      "metadata": {},
      "outputs": [
        {
          "output_type": "stream",
          "name": "stdout",
          "text": [
            "          a      f(a)      b       f(b)        xn     f(xn)        Error\n0         0 -2.000000      1  16.625839  0.500000  1.359272            -\n1         0 -2.000000    0.5   1.359272  0.250000 -0.914088         0.25\n2      0.25 -0.914088    0.5   1.359272  0.375000  0.010724        0.125\n3      0.25 -0.914088  0.375   0.010724  0.312500 -0.494843       0.0625\n4    0.3125 -0.494843  0.375   0.010724  0.343750 -0.253933      0.03125\n5   0.34375 -0.253933  0.375   0.010724  0.359375 -0.124720     0.015625\n6  0.359375 -0.124720  0.375   0.010724  0.367188 -0.057796    0.0078125\n7  0.367188 -0.057796  0.375   0.010724  0.371094 -0.023737   0.00390625\n8  0.371094 -0.023737  0.375   0.010724  0.373047 -0.006557   0.00195312\n9  0.373047 -0.006557  0.375   0.010724  0.374023  0.002071  0.000976562\n"
          ]
        },
        {
          "output_type": "execute_result",
          "data": {
            "text/plain": [
              "(0.3740234375, 0.0009765625, 10)"
            ]
          },
          "metadata": {},
          "execution_count": 7
        }
      ],
      "source": [
        "# Example 3.9\n",
        "# Function to work\n",
        "func = lambda x: exp(3*x) + cos(x) - 4\n",
        "# Error function\n",
        "error = lambda xi, xi_1: abs(xi - xi_1)\n",
        "\n",
        "# Compute with the bisection method\n",
        "bisection_method(0, 1, func, error, 0.001)"
      ]
    },
    {
      "source": [
        "# **Proposed Exercises**"
      ],
      "cell_type": "markdown",
      "metadata": {}
    },
    {
      "cell_type": "code",
      "execution_count": 8,
      "metadata": {},
      "outputs": [
        {
          "output_type": "stream",
          "name": "stdout",
          "text": [
            "       a      f(a)       b      f(b)       xn     f(xn)    Error\n0      0 -1.000000       1  0.577162  0.50000 -1.348774        -\n1    0.5 -1.348774       1  0.577162  0.75000 -0.661073     0.25\n2   0.75 -0.661073       1  0.577162  0.87500 -0.095045    0.125\n3  0.875 -0.095045       1  0.577162  0.93750  0.230405   0.0625\n4  0.875 -0.095045  0.9375  0.230405  0.90625  0.064669  0.03125\n"
          ]
        },
        {
          "output_type": "execute_result",
          "data": {
            "text/plain": [
              "(0.90625, 0.03125, 5)"
            ]
          },
          "metadata": {},
          "execution_count": 8
        }
      ],
      "source": [
        "# Exercise 3.2.5\n",
        "# Function to work\n",
        "func = lambda x: exp(x) - sin(3*x) - 2\n",
        "# Error function\n",
        "error = lambda xi, xi_1: abs(xi - xi_1)\n",
        "\n",
        "# Compute with the bisection method\n",
        "bisection_method(0, 1, func, error, 0.05)"
      ]
    },
    {
      "cell_type": "code",
      "execution_count": 9,
      "metadata": {},
      "outputs": [
        {
          "output_type": "stream",
          "name": "stdout",
          "text": [
            "        a      f(a)    b       f(b)       xn     f(xn)    Error\n0       0 -2.000000    1  15.095544  0.50000  0.552426        -\n1       0 -2.000000  0.5   0.552426  0.25000 -1.151311     0.25\n2    0.25 -1.151311  0.5   0.552426  0.37500 -0.488607    0.125\n3   0.375 -0.488607  0.5   0.552426  0.43750 -0.029115   0.0625\n4  0.4375 -0.029115  0.5   0.552426  0.46875  0.244429  0.03125\n"
          ]
        },
        {
          "output_type": "execute_result",
          "data": {
            "text/plain": [
              "(0.46875, 0.03125, 5)"
            ]
          },
          "metadata": {},
          "execution_count": 9
        }
      ],
      "source": [
        "# Exercise 3.2.6\n",
        "# Function to work\n",
        "func = lambda x: exp(3*x) + cos(3*x) - 4\n",
        "# Error function\n",
        "error = lambda xi, xi_1: abs(xi - xi_1)\n",
        "\n",
        "# Compute with the bisection method\n",
        "bisection_method(0, 1, func, error, _iter=5)"
      ]
    },
    {
      "cell_type": "code",
      "execution_count": 10,
      "metadata": {},
      "outputs": [
        {
          "output_type": "stream",
          "name": "stdout",
          "text": [
            "       a      f(a)       b      f(b)       xn     f(xn)      Error\n0      2        -3       3         2  2.50000 -0.750000          -\n1    2.5     -0.75       3         2  2.75000  0.562500        0.1\n2    2.5     -0.75    2.75    0.5625  2.62500 -0.109375  0.0454545\n3  2.625 -0.109375    2.75    0.5625  2.68750  0.222656  0.0238095\n4  2.625 -0.109375  2.6875  0.222656  2.65625  0.055664  0.0116279\n"
          ]
        },
        {
          "output_type": "execute_result",
          "data": {
            "text/plain": [
              "(2.65625, 0.011627906976744186, 5)"
            ]
          },
          "metadata": {},
          "execution_count": 10
        }
      ],
      "source": [
        "# Exercise 3.2.7\n",
        "# Function to work\n",
        "func = lambda x: pow(x, 2) - 7\n",
        "# Error function\n",
        "error = lambda xi, xi_1: abs(xi - xi_1) / abs(xi_1)\n",
        "\n",
        "# Compute with the bisection method\n",
        "bisection_method(2, 3, func, error, _iter=5)"
      ]
    },
    {
      "cell_type": "code",
      "metadata": {
        "colab": {
          "base_uri": "https://localhost:8080/"
        },
        "id": "rhv9czc3dATb",
        "outputId": "e108cc58-3d1a-415b-a38b-6735078169d1"
      },
      "source": [
        "# Exercise 3.2.9\n",
        "# Function to work\n",
        "func = lambda x: tan(pi*x) - 6\n",
        "# Error function\n",
        "error = lambda xi, xi_1: abs(xi - xi_1) / abs(xi_1)\n",
        "\n",
        "# Compute with the bisection method\n",
        "bisection_method(0, 0.48, func, error, 1e-4)"
      ],
      "execution_count": 11,
      "outputs": [
        {
          "output_type": "stream",
          "name": "stdout",
          "text": [
            "           a      f(a)         b      f(b)        xn     f(xn)        Error\n0          0 -6.000000  0.480000  9.894545  0.240000 -5.060937            -\n1       0.24 -5.060937  0.480000  9.894545  0.360000 -3.874892          0.5\n2       0.36 -3.874892  0.480000  9.894545  0.420000 -2.105257     0.166667\n3       0.42 -2.105257  0.480000  9.894545  0.450000  0.313752    0.0714286\n4       0.42 -2.105257  0.450000  0.313752  0.435000 -1.171183    0.0333333\n5      0.435 -1.171183  0.450000  0.313752  0.442500 -0.524521    0.0172414\n6     0.4425 -0.524521  0.450000  0.313752  0.446250 -0.134350   0.00847458\n7    0.44625 -0.134350  0.450000  0.313752  0.448125  0.081674   0.00420168\n8    0.44625 -0.134350  0.448125  0.081674  0.447187 -0.028237   0.00209205\n9   0.447187 -0.028237  0.448125  0.081674  0.447656  0.026231   0.00104822\n10  0.447187 -0.028237  0.447656  0.026231  0.447422 -0.001124   0.00052356\n11  0.447422 -0.001124  0.447656  0.026231  0.447539  0.012523  0.000261917\n12  0.447422 -0.001124  0.447539  0.012523  0.447480  0.005692  0.000130924\n13  0.447422 -0.001124  0.447480  0.005692  0.447451  0.002282  6.54707e-05\n"
          ]
        },
        {
          "output_type": "execute_result",
          "data": {
            "text/plain": [
              "(0.44745117187499994, 6.547073458170652e-05, 14)"
            ]
          },
          "metadata": {},
          "execution_count": 11
        }
      ]
    },
    {
      "cell_type": "code",
      "execution_count": 12,
      "metadata": {},
      "outputs": [
        {
          "output_type": "stream",
          "name": "stdout",
          "text": [
            "      a      f(a)  b  f(b)     xn     f(xn)  Error\n0     1 -6.800000  2   0.2  1.500 -4.425000      -\n1   1.5 -4.425000  2   0.2  1.750 -2.440625   0.25\n2  1.75 -2.440625  2   0.2  1.875 -1.208203  0.125\n"
          ]
        },
        {
          "output_type": "execute_result",
          "data": {
            "text/plain": [
              "(1.875, 0.125, 3)"
            ]
          },
          "metadata": {},
          "execution_count": 12
        }
      ],
      "source": [
        "# Exercise 3.2.25\n",
        "# Function to work\n",
        "func = lambda x: pow(x, 3) - 7.8\n",
        "# Error function\n",
        "error = lambda xi, xi_1: abs(xi - xi_1)\n",
        "\n",
        "# Compute with the bisection method\n",
        "bisection_method(1, 2, func, error, _iter=3)"
      ]
    },
    {
      "cell_type": "code",
      "execution_count": 13,
      "metadata": {},
      "outputs": [
        {
          "output_type": "stream",
          "name": "stdout",
          "text": [
            "           a      f(a)         b      f(b)        xn     f(xn)        Error\n0          0 -8.000000         2  6.715178  1.000000  4.130613            -\n1          0 -8.000000         1  4.130613  0.500000 -0.211992          0.5\n2        0.5 -0.211992         1  4.130613  0.750000  2.309339         0.25\n3        0.5 -0.211992      0.75  2.309339  0.625000  1.145195        0.125\n4        0.5 -0.211992     0.625  1.145195  0.562500  0.491946       0.0625\n5        0.5 -0.211992    0.5625  0.491946  0.531250  0.146470      0.03125\n6        0.5 -0.211992   0.53125  0.146470  0.515625 -0.031118     0.015625\n7   0.515625 -0.031118   0.53125  0.146470  0.523438  0.058085    0.0078125\n8   0.515625 -0.031118  0.523438  0.058085  0.519531  0.013586   0.00390625\n9   0.515625 -0.031118  0.519531  0.013586  0.517578 -0.008740   0.00195312\n10  0.517578 -0.008740  0.519531  0.013586  0.518555  0.002429  0.000976562\n"
          ]
        },
        {
          "output_type": "execute_result",
          "data": {
            "text/plain": [
              "(0.5185546875, 0.0009765625, 11)"
            ]
          },
          "metadata": {},
          "execution_count": 13
        }
      ],
      "source": [
        "# Exercise 3.2.27\n",
        "# Function to work\n",
        "func = lambda x: 20*x*exp(-0.5*x) - 8\n",
        "# Error function\n",
        "error = lambda xi, xi_1: abs(xi - xi_1)\n",
        "\n",
        "# Compute with the bisection method\n",
        "bisection_method(0, 2, func, error, 10e-4)"
      ]
    }
  ]
}