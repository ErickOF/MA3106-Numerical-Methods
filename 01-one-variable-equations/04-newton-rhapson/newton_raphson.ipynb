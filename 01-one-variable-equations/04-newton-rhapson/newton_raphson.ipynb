{
  "nbformat": 4,
  "nbformat_minor": 0,
  "metadata": {
    "colab": {
      "name": "Métodos Numéricos.ipynb",
      "provenance": []
    },
    "kernelspec": {
      "name": "python3",
      "display_name": "Python 3",
      "language": "python"
    }
  },
  "cells": [
    {
      "cell_type": "code",
      "metadata": {
        "id": "EjSvOd79HSaQ"
      },
      "source": [
        "from math import exp, sin, cos, tan, pi\n",
        "import pandas as pd\n",
        "from scipy import misc\n",
        "from typing import Tuple"
      ],
      "execution_count": 2,
      "outputs": []
    },
    {
      "cell_type": "markdown",
      "metadata": {
        "id": "vVBudS59IcH3"
      },
      "source": [
        "## **Newton-Raphson Method**"
      ]
    },
    {
      "cell_type": "code",
      "metadata": {
        "id": "ivzvgCOiIe-r"
      },
      "source": [
        "def newton_raphson_method(x0: float,\n",
        "                          func=None,\n",
        "                          error_func=None,\n",
        "                          error: float = 1e-10,\n",
        "                          _iter: int = 9e10) -> Tuple[float, float, int]:\n",
        "    \"\"\"Newton-Raphson method\n",
        "\n",
        "    Params:\n",
        "    ------------------------------------------------------------------\n",
        "        - x0: float.\n",
        "            initial value of x\n",
        "        - func\n",
        "            lambda function representing the function to work\n",
        "        - error_func\n",
        "            lambda function to compute the error\n",
        "        - error: float\n",
        "            error value\n",
        "        - _iter: int\n",
        "            number of iterations\n",
        "\n",
        "    Returns\n",
        "    ------------------------------------------------------------------\n",
        "        - Approximation of x\n",
        "        - Error\n",
        "        - Number of iterations\n",
        "    \"\"\"\n",
        "    # Valor incial de x\n",
        "    xk: float = x0\n",
        "    i: int = 0\n",
        "\n",
        "    # Current error of the approximation\n",
        "    current_error: float = 1.0\n",
        "\n",
        "    # Visualization\n",
        "    df = pd.DataFrame(columns=['x0', 'f(x0)', 'f\\'(x0)', 'xi', 'Error'])\n",
        "\n",
        "    while (error < current_error and i < _iter):\n",
        "        # Get x in the iteration k - 1\n",
        "        xk_1 = xk\n",
        "        # Evaluating the function\n",
        "        fxk_1 = func(xk)\n",
        "\n",
        "        # Derivating and evaluating the function\n",
        "        dfxk_1 = misc.derivative(func, xk_1, dx=1e-6)\n",
        "\n",
        "        # Current approximation of x\n",
        "        xk = xk - fxk_1 / dfxk_1\n",
        "\n",
        "        # New error\n",
        "        current_error = error_func(xk, xk_1)\n",
        "\n",
        "        # Add info\n",
        "        df.loc[i] = [xk_1, fxk_1, dfxk_1, xk, current_error if i > 0 else \"-\"]\n",
        "\n",
        "        i += 1\n",
        "\n",
        "    df.index = df.index + 1\n",
        "    print(df)\n",
        "\n",
        "    return xk, current_error, i"
      ],
      "execution_count": 3,
      "outputs": []
    },
    {
      "source": [
        "# **Book Examples**"
      ],
      "cell_type": "markdown",
      "metadata": {}
    },
    {
      "cell_type": "code",
      "execution_count": 4,
      "metadata": {},
      "outputs": [
        {
          "output_type": "stream",
          "name": "stdout",
          "text": [
            "         x0         f(x0)    f'(x0)        xi        Error\n1  1.500000 -1.179263e+00 -3.997495  1.205000            -\n2  1.205000 -9.433046e-02 -3.343838  1.176789    0.0239722\n3  1.176789 -9.416313e-04 -3.276957  1.176502   0.00024424\n4  1.176502 -9.842208e-08 -3.276272  1.176502  2.55341e-08\n"
          ]
        },
        {
          "output_type": "execute_result",
          "data": {
            "text/plain": [
              "(1.1765019399018328, 2.553406547363225e-08, 4)"
            ]
          },
          "metadata": {},
          "execution_count": 4
        }
      ],
      "source": [
        "# Example 3.1\n",
        "# Function to work\n",
        "func = lambda x: cos(x) - pow(x, 2) + 1\n",
        "# Error function\n",
        "error = lambda xi, xi_1: abs(xi - xi_1) / abs(xi)\n",
        "\n",
        "# Compute with the Newton-Raphson method\n",
        "newton_raphson_method(1.5, func, error, 0.0001)"
      ]
    },
    {
      "cell_type": "code",
      "execution_count": 5,
      "metadata": {},
      "outputs": [
        {
          "output_type": "stream",
          "name": "stdout",
          "text": [
            "         x0         f(x0)    f'(x0)        xi        Error\n1  1.500000  1.179263e+00  3.997495  1.205000            -\n2  1.205000  9.433046e-02  3.343838  1.176789    0.0239722\n3  1.176789  9.416313e-04  3.276957  1.176502   0.00024424\n4  1.176502  9.842208e-08  3.276272  1.176502  2.55341e-08\n"
          ]
        },
        {
          "output_type": "execute_result",
          "data": {
            "text/plain": [
              "(1.1765019399018328, 2.553406547363225e-08, 4)"
            ]
          },
          "metadata": {},
          "execution_count": 5
        }
      ],
      "source": [
        "# Example 3.1\n",
        "# Function to work\n",
        "func = lambda x: pow(x, 2) - cos(x) - 1\n",
        "# Error function\n",
        "error = lambda xi, xi_1: abs(xi - xi_1) / abs(xi)\n",
        "\n",
        "# Compute with the Newton-Raphson method\n",
        "newton_raphson_method(1.5, func, error, 0.0001)"
      ]
    },
    {
      "cell_type": "code",
      "execution_count": 6,
      "metadata": {},
      "outputs": [
        {
          "output_type": "stream",
          "name": "stdout",
          "text": [
            "        x0       f(x0)     f'(x0)        xi        Error\n1        6          24  12.000000  4.000000            -\n2        4           4   8.000000  3.500000     0.142857\n3      3.5        0.25   7.000000  3.464286    0.0103093\n4  3.46429  0.00127551   6.928571  3.464102  5.31434e-05\n"
          ]
        },
        {
          "output_type": "execute_result",
          "data": {
            "text/plain": [
              "(3.464101620029479, 5.314343687098582e-05, 4)"
            ]
          },
          "metadata": {},
          "execution_count": 6
        }
      ],
      "source": [
        "# Example 3.3\n",
        "# Function to work\n",
        "func = lambda x: pow(x, 2) - 12\n",
        "# Error function\n",
        "error = lambda xi, xi_1: abs(xi - xi_1) / abs(xi)\n",
        "\n",
        "# Compute with the Newton-Raphson method\n",
        "newton_raphson_method(6, func, error, 0.0001)"
      ]
    },
    {
      "cell_type": "code",
      "execution_count": 7,
      "metadata": {},
      "outputs": [
        {
          "output_type": "stream",
          "name": "stdout",
          "text": [
            "         x0     f(x0)    f'(x0)        xi       Error\n1         0 -1.000000 -2.000000 -0.500000           -\n2      -0.5 -0.395974  0.394319  0.504198      1.0042\n3  0.504198 -1.342650  1.481147  1.410691    0.906493\n4   1.41069  2.985635  5.484965  0.866360    0.544331\n5   0.86636 -0.138050  4.947482  0.894263   0.0279031\n6  0.894263  0.002659  5.135284  0.893746  0.00051772\n"
          ]
        },
        {
          "output_type": "execute_result",
          "data": {
            "text/plain": [
              "(0.8937456055848526, 0.0005177201687004418, 6)"
            ]
          },
          "metadata": {},
          "execution_count": 7
        }
      ],
      "source": [
        "# Example 3.8\n",
        "# Function to work\n",
        "func = lambda x: exp(x) - sin(3*x) - 2\n",
        "# Error function\n",
        "error = lambda xi, xi_1: abs(xi - xi_1)\n",
        "\n",
        "# Compute with the Newton-Raphson method\n",
        "newton_raphson_method(0, func, error, 0.001)"
      ]
    },
    {
      "cell_type": "code",
      "execution_count": 8,
      "metadata": {},
      "outputs": [
        {
          "output_type": "stream",
          "name": "stdout",
          "text": [
            "         x0     f(x0)    f'(x0)        xi        Error\n1         1  0.577162  5.688259  0.898535            -\n2  0.898535  0.024651  5.162555  0.893760   0.00477495\n3   0.89376  0.000073  5.132041  0.893745  1.41566e-05\n"
          ]
        },
        {
          "output_type": "execute_result",
          "data": {
            "text/plain": [
              "(0.8937454376611415, 1.4156583199032013e-05, 3)"
            ]
          },
          "metadata": {},
          "execution_count": 8
        }
      ],
      "source": [
        "# Example 3.8\n",
        "# Function to work\n",
        "func = lambda x: exp(x) - sin(3*x) - 2\n",
        "# Error function\n",
        "error = lambda xi, xi_1: abs(xi - xi_1)\n",
        "\n",
        "# Compute with the Newton-Raphson method\n",
        "newton_raphson_method(1, func, error, 0.001)"
      ]
    },
    {
      "cell_type": "code",
      "execution_count": 9,
      "metadata": {},
      "outputs": [
        {
          "output_type": "stream",
          "name": "stdout",
          "text": [
            "         x0     f(x0)     f'(x0)        xi        Error\n1         0 -2.000000   3.000000  0.666667            -\n2  0.666667  4.174943  21.548798  0.472923     0.193744\n3  0.472923  1.022271  11.940602  0.387310    0.0856131\n4   0.38731  0.122024   9.210587  0.374062    0.0132482\n5  0.374062  0.002410   8.849278  0.373789  0.000272317\n"
          ]
        },
        {
          "output_type": "execute_result",
          "data": {
            "text/plain": [
              "(0.37378942645831253, 0.0002723173338374796, 5)"
            ]
          },
          "metadata": {},
          "execution_count": 9
        }
      ],
      "source": [
        "# Example 3.9\n",
        "# Function to work\n",
        "func = lambda x: exp(3*x) + cos(x) - 4\n",
        "# Error function\n",
        "error = lambda xi, xi_1: abs(xi - xi_1)\n",
        "\n",
        "# Compute with the Newton-Raphson method\n",
        "newton_raphson_method(0, func, error, 0.001)"
      ]
    },
    {
      "cell_type": "code",
      "execution_count": 10,
      "metadata": {},
      "outputs": [
        {
          "output_type": "stream",
          "name": "stdout",
          "text": [
            "         x0      f(x0)     f'(x0)        xi        Error\n1         1  16.625839  59.415140  0.720175            -\n2  0.720175   5.427382  25.367560  0.506225      0.21395\n3  0.506225   1.440756  13.213647  0.397190     0.109035\n4   0.39719   0.214396   9.489905  0.374598     0.022592\n5  0.374598   0.007158   8.863610  0.373790  0.000807523\n"
          ]
        },
        {
          "output_type": "execute_result",
          "data": {
            "text/plain": [
              "(0.37379030033064703, 0.0008075229225482095, 5)"
            ]
          },
          "metadata": {},
          "execution_count": 10
        }
      ],
      "source": [
        "# Example 3.9\n",
        "# Function to work\n",
        "func = lambda x: exp(3*x) + cos(x) - 4\n",
        "# Error function\n",
        "error = lambda xi, xi_1: abs(xi - xi_1)\n",
        "\n",
        "# Compute with the Newton-Raphson method\n",
        "newton_raphson_method(1, func, error, 0.001)"
      ]
    },
    {
      "source": [
        "# **Proposed Exercises**"
      ],
      "cell_type": "markdown",
      "metadata": {}
    },
    {
      "cell_type": "code",
      "metadata": {
        "colab": {
          "base_uri": "https://localhost:8080/"
        },
        "id": "Jy2MxiR0KI7e",
        "outputId": "eb248d01-c8f6-4d21-faaf-efb2707b1421"
      },
      "source": [
        "# Exercise 3.4\n",
        "# Function to work\n",
        "func = lambda x: 2*x*cos(2*x) - pow(x + 1, 2)\n",
        "# Error function\n",
        "error = lambda xi, xi_1: abs(xi - xi_1) / abs(xi)\n",
        "\n",
        "# Compute with the Newton-Raphson method\n",
        "newton_raphson_method(-1, func, error, _iter=5)"
      ],
      "execution_count": 11,
      "outputs": [
        {
          "output_type": "stream",
          "name": "stdout",
          "text": [
            "         x0         f(x0)    f'(x0)        xi        Error\n1        -1  8.322937e-01 -4.469483 -0.813783            -\n2 -0.813783  5.767009e-02 -3.735801 -0.798346    0.0193364\n3 -0.798346  6.780243e-04 -3.647406 -0.798160  0.000232901\n4  -0.79816  1.007785e-07 -3.646322 -0.798160  3.46276e-08\n5  -0.79816  2.074729e-15 -3.646322 -0.798160  6.95489e-16\n"
          ]
        },
        {
          "output_type": "execute_result",
          "data": {
            "text/plain": [
              "(-0.7981599614057959, 6.954890487551676e-16, 5)"
            ]
          },
          "metadata": {},
          "execution_count": 11
        }
      ]
    },
    {
      "cell_type": "code",
      "execution_count": 12,
      "metadata": {},
      "outputs": [
        {
          "output_type": "stream",
          "name": "stdout",
          "text": [
            "         x0         f(x0)    f'(x0)        xi        Error\n1        -1 -8.322937e-01  4.469483 -0.813783            -\n2 -0.813783 -5.767009e-02  3.735801 -0.798346    0.0193364\n3 -0.798346 -6.780243e-04  3.647406 -0.798160  0.000232901\n4  -0.79816 -1.007785e-07  3.646322 -0.798160  3.46276e-08\n5  -0.79816 -2.074729e-15  3.646322 -0.798160  6.95489e-16\n"
          ]
        },
        {
          "output_type": "execute_result",
          "data": {
            "text/plain": [
              "(-0.7981599614057959, 6.954890487551676e-16, 5)"
            ]
          },
          "metadata": {},
          "execution_count": 12
        }
      ],
      "source": [
        "# Exercise 3.4\n",
        "# Function to work\n",
        "func = lambda x: pow(x + 1, 2) - 2*x*cos(2*x)\n",
        "# Error function\n",
        "error = lambda xi, xi_1: abs(xi - xi_1) / abs(xi)\n",
        "\n",
        "# Compute with the Newton-Raphson method\n",
        "newton_raphson_method(-1, func, error, _iter=5)"
      ]
    },
    {
      "cell_type": "code",
      "execution_count": 13,
      "metadata": {},
      "outputs": [
        {
          "output_type": "stream",
          "name": "stdout",
          "text": [
            "         x0     f(x0)    f'(x0)        xi        Error\n1  0.500000 -1.348774  1.436510  1.438924            -\n2  1.438924  3.138917  5.372289  0.854645     0.683651\n3  0.854645 -0.195524  4.863771  0.894845     0.044924\n4  0.894845  0.005647  5.139021  0.893746   0.00122938\n5  0.893746  0.000004  5.131955  0.893745  8.45793e-07\n"
          ]
        },
        {
          "output_type": "execute_result",
          "data": {
            "text/plain": [
              "(0.8937454375357066, 8.45793317949776e-07, 5)"
            ]
          },
          "metadata": {},
          "execution_count": 13
        }
      ],
      "source": [
        "# Exercise 3.5\n",
        "# Function to work\n",
        "func = lambda x: exp(x) - sin(3*x) - 2\n",
        "# Error function\n",
        "error = lambda xi, xi_1: abs(xi - xi_1) / abs(xi)\n",
        "\n",
        "# Compute with the Newton-Raphson method\n",
        "newton_raphson_method(0.5, func, error, 0.001)"
      ]
    },
    {
      "cell_type": "code",
      "execution_count": 14,
      "metadata": {},
      "outputs": [
        {
          "output_type": "stream",
          "name": "stdout",
          "text": [
            "         x0     f(x0)     f'(x0)        xi        Error\n1         0 -2.000000   3.000000  0.666667            -\n2  0.666667  4.174943  21.548798  0.472923     0.409673\n3  0.472923  1.022271  11.940602  0.387310     0.221045\n4   0.38731  0.122024   9.210587  0.374062    0.0354171\n5  0.374062  0.002410   8.849278  0.373789  0.000728531\n"
          ]
        },
        {
          "output_type": "execute_result",
          "data": {
            "text/plain": [
              "(0.37378942645831253, 0.0007285313991294781, 5)"
            ]
          },
          "metadata": {},
          "execution_count": 14
        }
      ],
      "source": [
        "# Exercise 3.6\n",
        "# Function to work\n",
        "func = lambda x: exp(3*x) + cos(x) - 4\n",
        "# Error function\n",
        "error = lambda xi, xi_1: abs(xi - xi_1) / abs(xi)\n",
        "\n",
        "# Compute with the Newton-Raphson method\n",
        "newton_raphson_method(0, func, error, 0.001)"
      ]
    },
    {
      "cell_type": "code",
      "execution_count": 15,
      "metadata": {},
      "outputs": [
        {
          "output_type": "stream",
          "name": "stdout",
          "text": [
            "         x0      f(x0)     f'(x0)        xi        Error\n1         1  16.625839  59.415140  0.720175            -\n2  0.720175   5.427382  25.367560  0.506225     0.422637\n3  0.506225   1.440756  13.213647  0.397190     0.274517\n4   0.39719   0.214396   9.489905  0.374598      0.06031\n5  0.374598   0.007158   8.863610  0.373790   0.00216036\n6   0.37379   0.000009   8.842029  0.373789  2.63747e-06\n"
          ]
        },
        {
          "output_type": "execute_result",
          "data": {
            "text/plain": [
              "(0.37378931447152214, 2.637472733229648e-06, 6)"
            ]
          },
          "metadata": {},
          "execution_count": 15
        }
      ],
      "source": [
        "# Exercise 3.6\n",
        "# Function to work\n",
        "func = lambda x: exp(3*x) + cos(x) - 4\n",
        "# Error function\n",
        "error = lambda xi, xi_1: abs(xi - xi_1) / abs(xi)\n",
        "\n",
        "# Compute with the Newton-Raphson method\n",
        "newton_raphson_method(1, func, error, 0.001)"
      ]
    },
    {
      "cell_type": "code",
      "execution_count": 16,
      "metadata": {},
      "outputs": [
        {
          "output_type": "stream",
          "name": "stdout",
          "text": [
            "        x0      f(x0)    f'(x0)        xi        Error\n1        2         -3  4.000000  2.750000            -\n2     2.75     0.5625  5.500000  2.647727    0.0386266\n3  2.64773  0.0104597  5.295455  2.645752  0.000746564\n"
          ]
        },
        {
          "output_type": "execute_result",
          "data": {
            "text/plain": [
              "(2.6457520483811625, 0.0007465644264035301, 3)"
            ]
          },
          "metadata": {},
          "execution_count": 16
        }
      ],
      "source": [
        "# Exercise 3.6\n",
        "# Function to work\n",
        "func = lambda x: pow(x, 2) - 7\n",
        "# Error function\n",
        "error = lambda xi, xi_1: abs(xi - xi_1) / abs(xi)\n",
        "\n",
        "# Compute with the Newton-Raphson method\n",
        "newton_raphson_method(2, func, error, 0.001)"
      ]
    },
    {
      "cell_type": "code",
      "execution_count": 17,
      "metadata": {},
      "outputs": [
        {
          "output_type": "stream",
          "name": "stdout",
          "text": [
            "        x0        f(x0)    f'(x0)        xi       Error\n1        3            2  6.000000  2.666667           -\n2  2.66667     0.111111  5.333333  2.645833  0.00787402\n3  2.64583  0.000434028  5.291667  2.645751  3.1001e-05\n"
          ]
        },
        {
          "output_type": "execute_result",
          "data": {
            "text/plain": [
              "(2.645751312335971, 3.100102412947735e-05, 3)"
            ]
          },
          "metadata": {},
          "execution_count": 17
        }
      ],
      "source": [
        "# Exercise 3.8\n",
        "# Function to work\n",
        "func = lambda x: pow(x, 2) - 7\n",
        "# Error function\n",
        "error = lambda xi, xi_1: abs(xi - xi_1) / abs(xi)\n",
        "\n",
        "# Compute with the Newton-Raphson method\n",
        "newton_raphson_method(3, func, error, 0.001)"
      ]
    },
    {
      "cell_type": "code",
      "execution_count": 18,
      "metadata": {},
      "outputs": [
        {
          "output_type": "stream",
          "name": "stdout",
          "text": [
            "         x0     f(x0)      f'(x0)        xi        Error\n1  0.480000  9.894545  796.822742  0.467583            -\n2  0.467583  3.785105  303.943702  0.455129    0.0273621\n3  0.455129  1.046868  159.147903  0.448551    0.0146649\n4  0.448551  0.132958  121.306877  0.447455   0.00244952\n5  0.447455  0.002749  116.342595  0.447432  5.28135e-05\n"
          ]
        },
        {
          "output_type": "execute_result",
          "data": {
            "text/plain": [
              "(0.44743155382376604, 5.281350334001117e-05, 5)"
            ]
          },
          "metadata": {},
          "execution_count": 18
        }
      ],
      "source": [
        "# Exercise 3.9\n",
        "# Function to work\n",
        "func = lambda x: tan(pi*x) - 6\n",
        "# Error function\n",
        "error = lambda xi, xi_1: abs(xi - xi_1) / abs(xi)\n",
        "\n",
        "# Compute with the Newton-Raphson method\n",
        "newton_raphson_method(0.48, func, error, 10e-4)"
      ]
    },
    {
      "cell_type": "code",
      "execution_count": 26,
      "metadata": {},
      "outputs": [
        {
          "output_type": "stream",
          "name": "stdout",
          "text": [
            "         x0     f(x0)    f'(x0)        xi        Error\n1  0.500000  0.755165 -0.958851  1.287573            -\n2  1.287573 -0.441096 -1.920319  1.057874     0.217133\n3  1.057874 -0.018548 -1.742628  1.047230    0.0101638\n4  1.047230 -0.000056 -1.732083  1.047198  3.08434e-05\n"
          ]
        },
        {
          "output_type": "execute_result",
          "data": {
            "text/plain": [
              "(1.0471975514977392, 3.0843395658237574e-05, 4)"
            ]
          },
          "metadata": {},
          "execution_count": 26
        }
      ],
      "source": [
        "# Exercise 3.9\n",
        "# Function to work\n",
        "func = lambda x: 2*cos(x) - 1\n",
        "# Error function\n",
        "error = lambda xi, xi_1: abs(xi - xi_1) / abs(xi)\n",
        "\n",
        "# Compute with the Newton-Raphson method\n",
        "newton_raphson_method(0.5, func, error, 10e-4)"
      ]
    },
    {
      "cell_type": "code",
      "execution_count": 20,
      "metadata": {},
      "outputs": [
        {
          "output_type": "stream",
          "name": "stdout",
          "text": [
            "        x0        f(x0)    f'(x0)        xi        Error\n1        4           -2  8.000000  4.250000            -\n2     4.25       0.0625  8.500000  4.242647    0.0017331\n3  4.24265  5.40658e-05  8.485294  4.242641  1.50182e-06\n4  4.24264   4.0604e-11  8.485281  4.242641  1.12795e-12\n"
          ]
        },
        {
          "output_type": "execute_result",
          "data": {
            "text/plain": [
              "(4.242640687119285, 1.127954422318424e-12, 4)"
            ]
          },
          "metadata": {},
          "execution_count": 20
        }
      ],
      "source": [
        "# Exercise 3.13\n",
        "# Function to work\n",
        "func = lambda x: pow(x, 2) - 18\n",
        "# Error function\n",
        "error = lambda xi, xi_1: abs(xi - xi_1) / abs(xi)\n",
        "\n",
        "# Compute with the Newton-Raphson method\n",
        "newton_raphson_method(4, func, error, _iter=5)"
      ]
    },
    {
      "cell_type": "code",
      "execution_count": 21,
      "metadata": {},
      "outputs": [
        {
          "output_type": "stream",
          "name": "stdout",
          "text": [
            "        x0        f(x0)     f'(x0)        xi        Error\n1        5            7  10.000000  4.300000            -\n2      4.3         0.49   8.600000  4.243023    0.0134283\n3  4.24302   0.00324635   8.486047  4.242641  9.01682e-05\n4  4.24264  1.46346e-07   8.485281  4.242641  4.06517e-09\n5  4.24264 -3.55271e-15   8.485281  4.242641            0\n"
          ]
        },
        {
          "output_type": "execute_result",
          "data": {
            "text/plain": [
              "(4.242640687119285, 0.0, 5)"
            ]
          },
          "metadata": {},
          "execution_count": 21
        }
      ],
      "source": [
        "# Exercise 3.13\n",
        "# Function to work\n",
        "func = lambda x: pow(x, 2) - 18\n",
        "# Error function\n",
        "error = lambda xi, xi_1: abs(xi - xi_1) / abs(xi)\n",
        "\n",
        "# Compute with the Newton-Raphson method\n",
        "newton_raphson_method(5, func, error, _iter=5)"
      ]
    },
    {
      "cell_type": "code",
      "execution_count": 22,
      "metadata": {},
      "outputs": [
        {
          "output_type": "stream",
          "name": "stdout",
          "text": [
            "        x0    f(x0)      f'(x0)        xi     Error\n1        1      -15    3.000000  6.000000         -\n2        6      200  108.000000  4.148148  0.446429\n3  4.14815  55.3777   51.621399  3.075381  0.348824\n4  3.07538  13.0869   28.373906  2.614152  0.176435\n5  2.61415  1.86458   20.501379  2.523204  0.036045\n"
          ]
        },
        {
          "output_type": "execute_result",
          "data": {
            "text/plain": [
              "(2.5232036019354225, 0.0360449854351805, 5)"
            ]
          },
          "metadata": {},
          "execution_count": 22
        }
      ],
      "source": [
        "# Exercise 3.18\n",
        "# Function to work\n",
        "func = lambda x: pow(x, 3) - 16\n",
        "# Error function\n",
        "error = lambda xi, xi_1: abs(xi - xi_1) / abs(xi)\n",
        "\n",
        "# Compute with the Newton-Raphson method\n",
        "newton_raphson_method(1, func, error, _iter=5)"
      ]
    },
    {
      "cell_type": "code",
      "execution_count": 23,
      "metadata": {},
      "outputs": [
        {
          "output_type": "stream",
          "name": "stdout",
          "text": [
            "        x0     f(x0)     f'(x0)        xi       Error\n1        2        -8  12.000000  2.666667           -\n2  2.66667   2.96296  21.333333  2.527778   0.0549451\n3  2.52778  0.151642  19.168981  2.519867  0.00313937\n"
          ]
        },
        {
          "output_type": "execute_result",
          "data": {
            "text/plain": [
              "(2.519866986901322, 0.0031393684416642317, 3)"
            ]
          },
          "metadata": {},
          "execution_count": 23
        }
      ],
      "source": [
        "# Exercise 3.22\n",
        "# Function to work\n",
        "func = lambda x: pow(x, 3) - 16\n",
        "# Error function\n",
        "error = lambda xi, xi_1: abs(xi - xi_1) / abs(xi)\n",
        "\n",
        "# Compute with the Newton-Raphson method\n",
        "newton_raphson_method(2, func, error, _iter=3)"
      ]
    }
  ]
}