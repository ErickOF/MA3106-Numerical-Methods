{
  "nbformat": 4,
  "nbformat_minor": 0,
  "metadata": {
    "colab": {
      "name": "Métodos Numéricos.ipynb",
      "provenance": []
    },
    "kernelspec": {
      "name": "python3",
      "display_name": "Python 3",
      "language": "python"
    }
  },
  "cells": [
    {
      "cell_type": "code",
      "metadata": {
        "id": "EjSvOd79HSaQ"
      },
      "source": [
        "from math import exp, sin, cos, tan, pi\n",
        "import pandas as pd\n",
        "from typing import Tuple"
      ],
      "execution_count": 30,
      "outputs": []
    },
    {
      "cell_type": "markdown",
      "metadata": {
        "id": "vVBudS59IcH3"
      },
      "source": [
        "## **False Position Method**"
      ]
    },
    {
      "cell_type": "code",
      "metadata": {
        "id": "ivzvgCOiIe-r"
      },
      "source": [
        "def false_position_method(xi_1: float,\n",
        "                  xi: float,\n",
        "                  func=None,\n",
        "                  error_func=None,\n",
        "                  error: float = 1e-10,\n",
        "                  _iter: int = 9e10) -> Tuple[float, float, int]:\n",
        "    \"\"\"False position method\n",
        "\n",
        "    Params:\n",
        "    ------------------------------------------------------------------\n",
        "        - xi_1: float.\n",
        "            first initial value of x\n",
        "        - xi: float\n",
        "            second initial value of x\n",
        "        - func\n",
        "            lambda function representing the function to work\n",
        "        - error_func\n",
        "            lambda function to compute the error\n",
        "        - error: float\n",
        "            error value\n",
        "        - _iter: int\n",
        "            number of iterations\n",
        "\n",
        "    Returns\n",
        "    ------------------------------------------------------------------\n",
        "        - Approximation of x\n",
        "        - Error\n",
        "        - Number of iterations\n",
        "    \"\"\"\n",
        "    # Check Bolzano Theorem\n",
        "    if func(xi_1) * func(xi) >= 0:\n",
        "        raise ValueError(\"Do not satisfy the Bolzano Theorem\")\n",
        "\n",
        "    # Current iteration\n",
        "    i: int = 0\n",
        "    # Current value of x\n",
        "    x: float = xi\n",
        "    # Current error of the approximation\n",
        "    current_error: float = 1.0\n",
        "\n",
        "    # Visualization\n",
        "    df = pd.DataFrame(columns=['x0', 'f(x0)', 'x1', 'f(x1)', 'xi', 'f(xi)', 'y = mx + b', 'Error'])\n",
        "\n",
        "    while (error < current_error and i < _iter):\n",
        "        # Evaluate function\n",
        "        fxi_1: float = func(xi_1)\n",
        "        fxi: float = func(xi)\n",
        "\n",
        "        # Compute the tangent line\n",
        "        m = (fxi - fxi_1) / (xi - xi_1)\n",
        "        b = fxi - m*xi\n",
        "\n",
        "        # Compute the new approximation value\n",
        "        x = -b / m\n",
        "        fx = func(x)\n",
        "\n",
        "        # Save info\n",
        "        data: list = [xi_1, fxi_1, xi, fxi, x, fx, f'<y = {m}x + {b}>']\n",
        "\n",
        "        # Compute the new error\n",
        "        current_error = error_func(x, xi)\n",
        "\n",
        "        # Add info\n",
        "        df.loc[i] = data + [current_error if i > 0 else '-']\n",
        "\n",
        "        # Check Bolzano Theorem\n",
        "        if fx * fxi < 0:\n",
        "            # Save the previous approximation value\n",
        "            xi_1 = xi\n",
        "\n",
        "        # Save the current approximation value\n",
        "        xi = x\n",
        "\n",
        "        i += 1\n",
        "\n",
        "    df.index = df.index + 1\n",
        "    print(df)\n",
        "    return x, current_error, i"
      ],
      "execution_count": 31,
      "outputs": []
    },
    {
      "source": [
        "# **Book Examples**"
      ],
      "cell_type": "markdown",
      "metadata": {}
    },
    {
      "cell_type": "code",
      "execution_count": 32,
      "metadata": {},
      "outputs": [
        {
          "output_type": "stream",
          "name": "stdout",
          "text": [
            "  x0     f(x0)       x1     f(x1)        xi     f(xi)  \\\n1  1  0.540302        2 -3.416147  1.136562  0.128941   \n2  2 -3.416147  1.13656  0.128941  1.167967  0.027875   \n3  2 -3.416147  1.16797  0.027875  1.174702  0.005895   \n4  2 -3.416147   1.1747  0.005895  1.176123  0.001241   \n5  2 -3.416147  1.17612  0.001241  1.176422  0.000261   \n\n                                      y = mx + b       Error  \n1  <y = -3.956449142415282x + 4.496751448283422>           -  \n2  <y = -4.105784046709758x + 4.795421256872373>   0.0268884  \n3  <y = -4.139286419274555x + 4.862426002001968>  0.00573275  \n4  <y = -4.146429091385103x + 4.876711346223065>  0.00120877  \n5  <y = -4.147935101726857x + 4.879723366906571>  0.00025427  \n"
          ]
        },
        {
          "output_type": "execute_result",
          "data": {
            "text/plain": [
              "(1.1764223034432382, 0.00025426995058661274, 5)"
            ]
          },
          "metadata": {},
          "execution_count": 32
        }
      ],
      "source": [
        "# Example 3.1\n",
        "# Function to work\n",
        "func = lambda x: cos(x) - pow(x, 2) + 1\n",
        "# Error function\n",
        "error = lambda xi, xi_1: abs(xi - xi_1) / abs(xi)\n",
        "\n",
        "# Compute with the false position method\n",
        "false_position_method(1, 2, func, error, 0.001)"
      ]
    },
    {
      "cell_type": "code",
      "execution_count": 33,
      "metadata": {},
      "outputs": [
        {
          "output_type": "stream",
          "name": "stdout",
          "text": [
            "  x0     f(x0)       x1     f(x1)        xi     f(xi)  \\\n1  1 -0.540302        2  3.416147  1.136562 -0.128941   \n2  2  3.416147  1.13656 -0.128941  1.167967 -0.027875   \n3  2  3.416147  1.16797 -0.027875  1.174702 -0.005895   \n4  2  3.416147   1.1747 -0.005895  1.176123 -0.001241   \n5  2  3.416147  1.17612 -0.001241  1.176422 -0.000261   \n\n                                      y = mx + b       Error  \n1  <y = 3.956449142415282x + -4.496751448283422>           -  \n2  <y = 4.105784046709758x + -4.795421256872373>   0.0268884  \n3  <y = 4.139286419274555x + -4.862426002001968>  0.00573275  \n4  <y = 4.146429091385103x + -4.876711346223065>  0.00120877  \n5  <y = 4.147935101726857x + -4.879723366906571>  0.00025427  \n"
          ]
        },
        {
          "output_type": "execute_result",
          "data": {
            "text/plain": [
              "(1.1764223034432382, 0.00025426995058661274, 5)"
            ]
          },
          "metadata": {},
          "execution_count": 33
        }
      ],
      "source": [
        "# Example 3.1\n",
        "# Function to work\n",
        "func = lambda x: pow(x, 2) - cos(x) - 1\n",
        "# Error function\n",
        "error = lambda xi, xi_1: abs(xi - xi_1) / abs(xi)\n",
        "\n",
        "# Compute with the false position method\n",
        "false_position_method(1, 2, func, error, 0.001)"
      ]
    },
    {
      "cell_type": "code",
      "execution_count": 34,
      "metadata": {},
      "outputs": [
        {
          "output_type": "stream",
          "name": "stdout",
          "text": [
            "  x0 f(x0)       x1       f(x1)        xi     f(xi)  \\\n1  3    -3        4           4  3.428571 -0.244898   \n2  4     4  3.42857   -0.244898  3.461538 -0.017751   \n3  4     4  3.46154  -0.0177515  3.463918 -0.001275   \n4  4     4  3.46392 -0.00127537  3.464088 -0.000092   \n\n                                       y = mx + b        Error  \n1                              <y = 7.0x + -24.0>            -  \n2   <y = 7.428571428571428x + -25.71428571428571>   0.00952381  \n3  <y = 7.461538461538462x + -25.846153846153847>  0.000686813  \n4   <y = 7.463917525773198x + -25.85567010309279>  4.93267e-05  \n"
          ]
        },
        {
          "output_type": "execute_result",
          "data": {
            "text/plain": [
              "(3.4640883977900554, 4.9326690672328284e-05, 4)"
            ]
          },
          "metadata": {},
          "execution_count": 34
        }
      ],
      "source": [
        "# Example 3.3\n",
        "# Function to work\n",
        "func = lambda x: pow(x, 2) - 12\n",
        "# Error function\n",
        "error = lambda xi, xi_1: abs(xi - xi_1) / abs(xi)\n",
        "\n",
        "# Compute with the false position method\n",
        "false_position_method(3, 4, func, error, 0.0005)"
      ]
    },
    {
      "source": [
        "# **Proposed Exercises**"
      ],
      "cell_type": "markdown",
      "metadata": {}
    },
    {
      "cell_type": "code",
      "metadata": {
        "colab": {
          "base_uri": "https://localhost:8080/"
        },
        "id": "Jy2MxiR0KI7e",
        "outputId": "eb248d01-c8f6-4d21-faaf-efb2707b1421"
      },
      "source": [
        "# Exercise 3.2.3\n",
        "# Function to work\n",
        "func = lambda x: pow(2, -x) - x\n",
        "# Error function\n",
        "error = lambda xi, xi_1: abs(xi - xi_1)\n",
        "\n",
        "# Compute with the false position method\n",
        "false_position_method(0, 1, func, error, _iter=5)"
      ],
      "execution_count": 35,
      "outputs": [
        {
          "output_type": "stream",
          "name": "stdout",
          "text": [
            "  x0 f(x0)        x1     f(x1)        xi     f(xi)  \\\n1  0     1         1 -0.500000  0.666667 -0.036706   \n2  0     1  0.666667 -0.036706  0.643062 -0.002710   \n3  0     1  0.643062 -0.002710  0.641324 -0.000200   \n4  0     1  0.641324 -0.000200  0.641196 -0.000015   \n5  0     1  0.641196 -0.000015  0.641187 -0.000001   \n\n                                       y = mx + b        Error  \n1                               <y = -1.5x + 1.0>            -  \n2                <y = -1.5550592125788452x + 1.0>    0.0236043  \n3                <y = -1.5592735243316194x + 1.0>   0.00173803  \n4                <y = -1.5595855820706408x + 1.0>  0.000128323  \n5  <y = -1.559608631548895x + 0.9999999999999999>  9.47624e-06  \n"
          ]
        },
        {
          "output_type": "execute_result",
          "data": {
            "text/plain": [
              "(0.6411865001073181, 9.476244497985675e-06, 5)"
            ]
          },
          "metadata": {},
          "execution_count": 35
        }
      ]
    },
    {
      "cell_type": "code",
      "execution_count": 36,
      "metadata": {},
      "outputs": [
        {
          "output_type": "stream",
          "name": "stdout",
          "text": [
            "  x0 f(x0)        x1     f(x1)        xi     f(xi)  \\\n1  0    -1         1  0.500000  0.666667  0.036706   \n2  0    -1  0.666667  0.036706  0.643062  0.002710   \n3  0    -1  0.643062  0.002710  0.641324  0.000200   \n4  0    -1  0.641324  0.000200  0.641196  0.000015   \n5  0    -1  0.641196  0.000015  0.641187  0.000001   \n\n                                       y = mx + b        Error  \n1                               <y = 1.5x + -1.0>            -  \n2                <y = 1.5550592125788452x + -1.0>    0.0236043  \n3                <y = 1.5592735243316194x + -1.0>   0.00173803  \n4                <y = 1.5595855820706408x + -1.0>  0.000128323  \n5  <y = 1.559608631548895x + -0.9999999999999999>  9.47624e-06  \n"
          ]
        },
        {
          "output_type": "execute_result",
          "data": {
            "text/plain": [
              "(0.6411865001073181, 9.476244497985675e-06, 5)"
            ]
          },
          "metadata": {},
          "execution_count": 36
        }
      ],
      "source": [
        "# Exercise 3.2.3\n",
        "# Function to work\n",
        "func = lambda x: x - pow(2, -x)\n",
        "# Error function\n",
        "error = lambda xi, xi_1: abs(xi - xi_1)\n",
        "\n",
        "# Compute with the false position method\n",
        "false_position_method(0, 1, func, error, _iter=5)"
      ]
    },
    {
      "cell_type": "code",
      "execution_count": 37,
      "metadata": {},
      "outputs": [
        {
          "output_type": "stream",
          "name": "stdout",
          "text": [
            "      x0     f(x0)        x1     f(x1)        xi     f(xi)  \\\n1      0 -6.000000  0.480000  9.894545  0.181194 -5.360105   \n2   0.48  9.894545  0.181194 -5.360105  0.286187 -4.742211   \n3   0.48  9.894545  0.286187 -4.742211  0.348981 -4.052821   \n4   0.48  9.894545  0.348981 -4.052821  0.387053 -3.301069   \n5   0.48  9.894545  0.387053 -3.301069  0.410305 -2.545638   \n6   0.48  9.894545  0.410305 -2.545638  0.424566 -1.859550   \n7   0.48  9.894545  0.424566 -1.859550  0.433336 -1.295153   \n8   0.48  9.894545  0.433336 -1.295153  0.438737 -0.868485   \n9   0.48  9.894545  0.438737 -0.868485  0.442067 -0.566358   \n10  0.48  9.894545  0.442067 -0.566358  0.444121 -0.362258   \n11  0.48  9.894545  0.444121 -0.362258  0.445388 -0.228745   \n12  0.48  9.894545  0.445388 -0.228745  0.446170 -0.143238   \n13  0.48  9.894545  0.446170 -0.143238  0.446653 -0.089220   \n14  0.48  9.894545  0.446653 -0.089220  0.446951 -0.055387   \n\n                                         y = mx + b        Error  \n1     <y = 33.11363509138597x + -6.000000000000002>            -  \n2   <y = 51.052062087863575x + -14.610444958309248>      0.57945  \n3       <y = 75.5200544877539x + -26.3550813102566>     0.219416  \n4    <y = 106.45318856707885x + -41.20298566833258>     0.109093  \n5      <y = 141.9686502064741x + -58.2504072552423>    0.0600748  \n6    <y = 178.49390343855669x + -75.78252880664195>     0.034759  \n7     <y = 212.0394997386649x + -91.88441503069387>     0.020656  \n8   <y = 239.79455753029112x + -105.20684277067447>     0.012464  \n9    <y = 260.8423157203043x + -115.30976670188082>   0.00758891  \n10    <y = 275.7727797870766x + -122.4763894539315>   0.00464571  \n11   <y = 285.8693520846499x + -127.32274415676669>   0.00285332  \n12  <y = 292.47815919901194x + -130.49497157166044>   0.00175598  \n13   <y = 296.7122208368136x + -132.52732115780523>   0.00108199  \n14   <y = 299.3876931508038x + -133.81154786852056>  0.000667201  \n"
          ]
        },
        {
          "output_type": "execute_result",
          "data": {
            "text/plain": [
              "(0.44695072953823356, 0.0006672013539968061, 14)"
            ]
          },
          "metadata": {},
          "execution_count": 37
        }
      ],
      "source": [
        "# Exercise 3.2.9\n",
        "# Function to work\n",
        "func = lambda x: tan(pi*x) - 6\n",
        "# Error function\n",
        "error = lambda xi, xi_1: abs(xi - xi_1) / abs(xi_1)\n",
        "\n",
        "# Compute with the false position method\n",
        "false_position_method(0, 0.48, func, error, 10e-4)"
      ]
    },
    {
      "cell_type": "code",
      "execution_count": 39,
      "metadata": {},
      "outputs": [
        {
          "output_type": "error",
          "ename": "ValueError",
          "evalue": "Do not satisfy the Bolzano Theorem",
          "traceback": [
            "\u001b[1;31m---------------------------------------------------------------------------\u001b[0m",
            "\u001b[1;31mValueError\u001b[0m                                Traceback (most recent call last)",
            "\u001b[1;32m<ipython-input-39-1880ab1d95dc>\u001b[0m in \u001b[0;36m<module>\u001b[1;34m\u001b[0m\n\u001b[0;32m      6\u001b[0m \u001b[1;33m\u001b[0m\u001b[0m\n\u001b[0;32m      7\u001b[0m \u001b[1;31m# Compute with the false position method\u001b[0m\u001b[1;33m\u001b[0m\u001b[1;33m\u001b[0m\u001b[1;33m\u001b[0m\u001b[0m\n\u001b[1;32m----> 8\u001b[1;33m \u001b[0mfalse_position_method\u001b[0m\u001b[1;33m(\u001b[0m\u001b[1;33m-\u001b[0m\u001b[1;36m1\u001b[0m\u001b[1;33m,\u001b[0m \u001b[1;36m1\u001b[0m\u001b[1;33m,\u001b[0m \u001b[0mfunc\u001b[0m\u001b[1;33m,\u001b[0m \u001b[0merror\u001b[0m\u001b[1;33m,\u001b[0m \u001b[0m_iter\u001b[0m\u001b[1;33m=\u001b[0m\u001b[1;36m5\u001b[0m\u001b[1;33m)\u001b[0m\u001b[1;33m\u001b[0m\u001b[1;33m\u001b[0m\u001b[0m\n\u001b[0m",
            "\u001b[1;32m<ipython-input-31-13571211cacd>\u001b[0m in \u001b[0;36mfalse_position_method\u001b[1;34m(xi_1, xi, func, error_func, error, _iter)\u001b[0m\n\u001b[0;32m     30\u001b[0m     \u001b[1;31m# Check Bolzano Theorem\u001b[0m\u001b[1;33m\u001b[0m\u001b[1;33m\u001b[0m\u001b[1;33m\u001b[0m\u001b[0m\n\u001b[0;32m     31\u001b[0m     \u001b[1;32mif\u001b[0m \u001b[0mfunc\u001b[0m\u001b[1;33m(\u001b[0m\u001b[0mxi_1\u001b[0m\u001b[1;33m)\u001b[0m \u001b[1;33m*\u001b[0m \u001b[0mfunc\u001b[0m\u001b[1;33m(\u001b[0m\u001b[0mxi\u001b[0m\u001b[1;33m)\u001b[0m \u001b[1;33m>=\u001b[0m \u001b[1;36m0\u001b[0m\u001b[1;33m:\u001b[0m\u001b[1;33m\u001b[0m\u001b[1;33m\u001b[0m\u001b[0m\n\u001b[1;32m---> 32\u001b[1;33m         \u001b[1;32mraise\u001b[0m \u001b[0mValueError\u001b[0m\u001b[1;33m(\u001b[0m\u001b[1;34m\"Do not satisfy the Bolzano Theorem\"\u001b[0m\u001b[1;33m)\u001b[0m\u001b[1;33m\u001b[0m\u001b[1;33m\u001b[0m\u001b[0m\n\u001b[0m\u001b[0;32m     33\u001b[0m \u001b[1;33m\u001b[0m\u001b[0m\n\u001b[0;32m     34\u001b[0m     \u001b[1;31m# Current iteration\u001b[0m\u001b[1;33m\u001b[0m\u001b[1;33m\u001b[0m\u001b[1;33m\u001b[0m\u001b[0m\n",
            "\u001b[1;31mValueError\u001b[0m: Do not satisfy the Bolzano Theorem"
          ]
        }
      ],
      "source": [
        "# Exercise 3.2.10\n",
        "# Function to work\n",
        "func = lambda x: exp(x) - 1 - x\n",
        "# Error function\n",
        "error = lambda xi, xi_1: abs(xi - xi_1) / abs(xi_1)\n",
        "\n",
        "# Compute with the false position method\n",
        "false_position_method(-1, 1, func, error, _iter=5)"
      ]
    },
    {
      "cell_type": "code",
      "execution_count": 40,
      "metadata": {},
      "outputs": [
        {
          "output_type": "stream",
          "name": "stdout",
          "text": [
            "   x0 f(x0)       x1        f(x1)         xi         f(xi)  \\\n1  12    -6       13           19  12.240000 -1.824000e-01   \n2  13    19    12.24      -0.1824  12.247227 -5.440010e-03   \n3  13    19  12.2472  -0.00544001  12.247442 -1.621534e-04   \n4  13    19  12.2474 -0.000162153  12.247449 -4.833312e-06   \n5  13    19  12.2474 -4.83331e-06  12.247449 -1.440667e-07   \n\n                                       y = mx + b        Error  \n1                            <y = 25.0x + -306.0>            -  \n2   <y = 25.24000000000001x + -309.1200000000001>   0.00059041  \n3  <y = 25.247226624405716x + -309.2139461172743>  1.75933e-05  \n4    <y = 25.2474420940305x + -309.2167472223965>  5.24401e-07  \n5   <y = 25.247448516596773x + -309.216830715758>  1.56308e-08  \n"
          ]
        },
        {
          "output_type": "execute_result",
          "data": {
            "text/plain": [
              "(12.247448708034394, 1.563081744818255e-08, 5)"
            ]
          },
          "metadata": {},
          "execution_count": 40
        }
      ],
      "source": [
        "# Exercise 3.2.12\n",
        "# Function to work\n",
        "func = lambda x: pow(x, 2) - 150\n",
        "# Error function\n",
        "error = lambda xi, xi_1: abs(xi - xi_1) / abs(xi_1)\n",
        "\n",
        "# Compute with the false position method\n",
        "false_position_method(12, 13, func, error, 0.5e-7)"
      ]
    },
    {
      "cell_type": "code",
      "execution_count": 41,
      "metadata": {},
      "outputs": [
        {
          "output_type": "stream",
          "name": "stdout",
          "text": [
            "   x0     f(x0)       x1     f(x1)        xi     f(xi)  \\\n1  -4  3.365884       -2 -1.682942 -2.666667 -0.872519   \n2  -4  3.365884 -2.66667 -0.872519 -2.941147 -0.172995   \n3  -4  3.365884 -2.94115 -0.172995 -2.992908 -0.021225   \n4  -4  3.365884 -2.99291 -0.021225 -2.999219 -0.002342   \n5  -4  3.365884 -2.99922 -0.002342 -2.999915 -0.000255   \n\n                                         y = mx + b        Error  \n1   <y = -2.5244129544236893x + -6.731767878463172>            -  \n2    <y = -3.178802348015995x + -9.349325452832392>      0.10293  \n3    <y = -3.34218198782943x + -10.002844012086133>    0.0175989  \n4  <y = -3.3632573345535013x + -10.087145398982418>   0.00210858  \n5  <y = -3.3655978079848445x + -10.096507292707791>  0.000232045  \n"
          ]
        },
        {
          "output_type": "execute_result",
          "data": {
            "text/plain": [
              "(-2.9999149835295045, 0.00023204507494952755, 5)"
            ]
          },
          "metadata": {},
          "execution_count": 41
        }
      ],
      "source": [
        "# Exercise 3.2.16\n",
        "# Function to work\n",
        "func = lambda x: x * sin(3 + x)\n",
        "# Error function\n",
        "error = lambda xi, xi_1: abs(xi - xi_1) / abs(xi_1)\n",
        "\n",
        "# Compute with the false position method\n",
        "false_position_method(-4, -2, func, error, _iter=5)"
      ]
    },
    {
      "cell_type": "code",
      "execution_count": 43,
      "metadata": {},
      "outputs": [
        {
          "output_type": "stream",
          "name": "stdout",
          "text": [
            "  x0 f(x0)       x1    f(x1)        xi     f(xi)  \\\n1  2    -8        3       11  2.421053 -1.809010   \n2  3    11  2.42105 -1.80901  2.502817 -0.322120   \n3  3    11  2.50282 -0.32212  2.516962 -0.054796   \n\n                                        y = mx + b       Error  \n1                              <y = 19.0x + -46.0>           -  \n2    <y = 22.12465373961219x + -55.37396121883657>   0.0337723  \n3  <y = 22.772544557937824x + -57.317633673813475>  0.00565168  \n"
          ]
        },
        {
          "output_type": "execute_result",
          "data": {
            "text/plain": [
              "(2.5169621922568277, 0.005651677316422294, 3)"
            ]
          },
          "metadata": {},
          "execution_count": 43
        }
      ],
      "source": [
        "# Exercise 3.2.22\n",
        "# Function to work\n",
        "func = lambda x: pow(x, 3) - 16\n",
        "# Error function\n",
        "error = lambda xi, xi_1: abs(xi - xi_1) / abs(xi_1)\n",
        "\n",
        "# Compute with the false position method\n",
        "false_position_method(2, 3, func, error, _iter=3)"
      ]
    }
  ]
}