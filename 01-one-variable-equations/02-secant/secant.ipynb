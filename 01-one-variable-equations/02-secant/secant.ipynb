{
  "nbformat": 4,
  "nbformat_minor": 0,
  "metadata": {
    "colab": {
      "name": "Métodos Numéricos.ipynb",
      "provenance": []
    },
    "kernelspec": {
      "name": "python3",
      "display_name": "Python 3",
      "language": "python"
    }
  },
  "cells": [
    {
      "cell_type": "code",
      "metadata": {
        "id": "EjSvOd79HSaQ"
      },
      "source": [
        "from math import pow, exp, sin, cos, tan, pi"
      ],
      "execution_count": 1,
      "outputs": []
    },
    {
      "cell_type": "markdown",
      "metadata": {
        "id": "vVBudS59IcH3"
      },
      "source": [
        "## **Método de la secante**"
      ]
    },
    {
      "cell_type": "code",
      "metadata": {
        "id": "ivzvgCOiIe-r"
      },
      "source": [
        "def secant_method(xi_1: float,\n",
        "                  xi: float,\n",
        "                  func=None,\n",
        "                  error_func=None,\n",
        "                  error: float = 1e-10,\n",
        "                  _iter: int = 9e10):\n",
        "    \"\"\"Secant method\n",
        "\n",
        "    Params:\n",
        "    ------------------------------------------------------------------\n",
        "        - xi_1: float.\n",
        "            first initial value of x\n",
        "        - xi: float\n",
        "            second initial value of x\n",
        "        - func\n",
        "            lambda function representing the function to work\n",
        "        - error_func\n",
        "            lambda function to compute the error\n",
        "        - error: float\n",
        "            error value\n",
        "        - _iter: int\n",
        "            number of iterations\n",
        "\n",
        "    Returns\n",
        "    ------------------------------------------------------------------\n",
        "        Approximation of x\n",
        "    \"\"\"\n",
        "\n",
        "    # Current iteration\n",
        "    i: int = 0\n",
        "    # Current value of x\n",
        "    x: float = xi\n",
        "    # Current error of the approximation\n",
        "    current_error: float = 1.0\n",
        "\n",
        "    while (error < current_error and i < _iter):\n",
        "        # Evaluate function\n",
        "        fxi_1: float = func(xi_1)\n",
        "        fxi: float = func(xi)\n",
        "\n",
        "        # Compute the tangent line\n",
        "        m = (fxi - fxi_1) / (xi - xi_1)\n",
        "        b = fxi - m*xi\n",
        "\n",
        "        # Compute the new approximation value\n",
        "        x = -b / m\n",
        "        fx = func(x)\n",
        "\n",
        "        # Show info\n",
        "        print(i, xi, xi_1, fxi, fxi_1, x, fx, sep=\"\\t\", end=\"\\t\")\n",
        "\n",
        "        # Save the previous approximation value\n",
        "        xi_1 = xi\n",
        "        # Save the current approximation value\n",
        "        xi = x\n",
        "\n",
        "        # Compute the new error\n",
        "        current_error = error_func(xi_1, xi)\n",
        "        print(current_error)\n",
        "\n",
        "        i += 1\n",
        "\n",
        "    # Current approximation of x\n",
        "    return x"
      ],
      "execution_count": 2,
      "outputs": []
    },
    {
      "cell_type": "code",
      "metadata": {
        "colab": {
          "base_uri": "https://localhost:8080/"
        },
        "id": "Jy2MxiR0KI7e",
        "outputId": "eb248d01-c8f6-4d21-faaf-efb2707b1421"
      },
      "source": [
        "func = lambda x: exp(x) - sin(3*x) - 2\r\n",
        "error = lambda x, xi: abs(x - xi)\r\n",
        "\r\n",
        "secant_method(0, 1, func, error, 0.05)"
      ],
      "execution_count": 3,
      "outputs": [
        {
          "output_type": "stream",
          "name": "stdout",
          "text": [
            "0\t1\t0\t0.5771618203991777\t-1.0\t0.6340503473175005\t-1.060371513099806\t0.36594965268249946\n1\t0.6340503473175005\t1\t-1.060371513099806\t0.5771618203991777\t0.8710180956955713\t-0.11492949928565466\t0.23696774837807077\n2\t0.8710180956955713\t0.6340503473175005\t-0.11492949928565466\t-1.060371513099806\t0.8998242882171724\t0.03131457865967047\t0.028806192521601104\n"
          ]
        },
        {
          "output_type": "execute_result",
          "data": {
            "text/plain": [
              "0.8998242882171724"
            ]
          },
          "metadata": {},
          "execution_count": 3
        }
      ]
    },
    {
      "cell_type": "code",
      "metadata": {
        "colab": {
          "base_uri": "https://localhost:8080/"
        },
        "id": "ccvfinBBs3g_",
        "outputId": "6094c6ce-c001-4cc7-bec4-8bf3ae0e9c60"
      },
      "source": [
        "func = lambda x: x*cos(1 + x)\r\n",
        "error = lambda x, xi: abs(x - xi)\r\n",
        "\r\n",
        "secant_method(-4, -2, func, error, _iter=5)"
      ],
      "execution_count": 4,
      "outputs": [
        {
          "output_type": "stream",
          "name": "stdout",
          "text": [
            "0\t-2\t-4\t-1.0806046117362795\t3.9599699864017817\t-2.4287624716973513\t-0.3438077960750581\t0.42876247169735127\n1\t-2.4287624716973513\t-2\t-0.3438077960750581\t-1.0806046117362795\t-2.6288337495593077\t0.15248509837720028\t0.20007127786195644\n2\t-2.6288337495593077\t-2.4287624716973513\t0.15248509837720028\t-0.3438077960750581\t-2.5673622096113036\t-0.008816605351235608\t0.06147153994800414\n3\t-2.5673622096113036\t-2.6288337495593077\t-0.008816605351235608\t0.15248509837720028\t-2.5707221884306635\t-0.00019058913777351947\t0.003359978819359899\n4\t-2.5707221884306635\t-2.5673622096113036\t-0.00019058913777351947\t-0.008816605351235608\t-2.5707964261146965\t2.553309865705933e-07\t7.423768403302944e-05\n"
          ]
        },
        {
          "output_type": "execute_result",
          "data": {
            "text/plain": [
              "-2.5707964261146965"
            ]
          },
          "metadata": {},
          "execution_count": 4
        }
      ]
    }
  ]
}